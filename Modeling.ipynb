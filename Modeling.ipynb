{
 "cells": [
  {
   "cell_type": "markdown",
   "metadata": {},
   "source": [
    "# Imports"
   ]
  },
  {
   "cell_type": "code",
<<<<<<< HEAD
   "execution_count": 1288,
=======
   "execution_count": 37,
>>>>>>> 2a962d549d51068955895e0e87d75a4243dbf63e
   "metadata": {},
   "outputs": [],
   "source": [
    "import pandas as pd\n",
    "import numpy as np\n",
    "import matplotlib.pyplot as plt\n",
    "import seaborn as sns\n",
    "\n",
    "from sklearn.linear_model import LogisticRegression\n",
    "from sklearn.preprocessing import MinMaxScaler\n",
    "\n",
    "from sklearn.preprocessing import MinMaxScaler\n",
    "from sklearn.model_selection import train_test_split\n",
    "\n",
    "from sklearn.ensemble import RandomForestClassifier\n",
    "from sklearn.ensemble import AdaBoostClassifier\n",
    "from sklearn.ensemble import bagging\n",
    "from sklearn.tree import DecisionTreeClassifier\n",
    "\n",
    "from sklearn.model_selection import GridSearchCV, cross_validate"
   ]
  },
  {
   "cell_type": "code",
<<<<<<< HEAD
   "execution_count": 1289,
=======
   "execution_count": 38,
>>>>>>> 2a962d549d51068955895e0e87d75a4243dbf63e
   "metadata": {},
   "outputs": [
    {
     "data": {
      "text/html": [
       "<div>\n",
       "<style scoped>\n",
       "    .dataframe tbody tr th:only-of-type {\n",
       "        vertical-align: middle;\n",
       "    }\n",
       "\n",
       "    .dataframe tbody tr th {\n",
       "        vertical-align: top;\n",
       "    }\n",
       "\n",
       "    .dataframe thead th {\n",
       "        text-align: right;\n",
       "    }\n",
       "</style>\n",
       "<table border=\"1\" class=\"dataframe\">\n",
       "  <thead>\n",
       "    <tr style=\"text-align: right;\">\n",
       "      <th></th>\n",
       "      <th>age</th>\n",
       "      <th>sex</th>\n",
       "      <th>race</th>\n",
       "      <th>martial</th>\n",
       "      <th>weight</th>\n",
       "      <th>height</th>\n",
       "      <th>overweight</th>\n",
       "      <th>education</th>\n",
       "      <th>income</th>\n",
       "      <th>home</th>\n",
       "      <th>employment</th>\n",
       "      <th>marijuana</th>\n",
       "      <th>coverage</th>\n",
       "      <th>checkup</th>\n",
       "      <th>primaryphysician</th>\n",
       "      <th>exercise</th>\n",
       "      <th>weeklydrinks</th>\n",
       "      <th>smoker</th>\n",
       "      <th>alcohol</th>\n",
       "      <th>binge</th>\n",
       "      <th>sleep</th>\n",
       "      <th>health</th>\n",
       "      <th>heart_dis</th>\n",
       "      <th>cancer</th>\n",
       "      <th>depression</th>\n",
       "      <th>stroke</th>\n",
       "      <th>diabete3</th>\n",
       "      <th>heart_attack</th>\n",
       "      <th>skin_cancer</th>\n",
       "      <th>chronic_bronchitis</th>\n",
       "      <th>kidney_disease</th>\n",
       "      <th>arthritis</th>\n",
       "      <th>asthma</th>\n",
       "      <th>bmi</th>\n",
       "      <th>obese</th>\n",
       "      <th>comorbid</th>\n",
       "      <th>chronic</th>\n",
       "    </tr>\n",
       "  </thead>\n",
       "  <tbody>\n",
       "    <tr>\n",
       "      <th>0</th>\n",
       "      <td>80.0</td>\n",
       "      <td>2.0</td>\n",
       "      <td>1.0</td>\n",
       "      <td>0.0</td>\n",
       "      <td>130.0</td>\n",
       "      <td>64.0</td>\n",
       "      <td>1.0</td>\n",
       "      <td>4.0</td>\n",
       "      <td>2.0</td>\n",
       "      <td>1.0</td>\n",
       "      <td>1.0</td>\n",
       "      <td>0.0</td>\n",
       "      <td>1.0</td>\n",
       "      <td>1.0</td>\n",
       "      <td>1.0</td>\n",
       "      <td>2.0</td>\n",
       "      <td>5.397605e-79</td>\n",
       "      <td>1.0</td>\n",
       "      <td>2.0</td>\n",
       "      <td>1.0</td>\n",
       "      <td>7.0</td>\n",
       "      <td>2.0</td>\n",
       "      <td>0.0</td>\n",
       "      <td>0.0</td>\n",
       "      <td>0.0</td>\n",
       "      <td>0.0</td>\n",
       "      <td>0.0</td>\n",
       "      <td>0.0</td>\n",
       "      <td>1.0</td>\n",
       "      <td>0.0</td>\n",
       "      <td>0.0</td>\n",
       "      <td>1.0</td>\n",
       "      <td>0.0</td>\n",
       "      <td>22.3</td>\n",
       "      <td>0</td>\n",
       "      <td>1</td>\n",
       "      <td>1</td>\n",
       "    </tr>\n",
       "    <tr>\n",
       "      <th>1</th>\n",
       "      <td>33.0</td>\n",
       "      <td>2.0</td>\n",
       "      <td>2.0</td>\n",
       "      <td>0.0</td>\n",
       "      <td>200.0</td>\n",
       "      <td>65.0</td>\n",
       "      <td>2.0</td>\n",
       "      <td>4.0</td>\n",
       "      <td>1.0</td>\n",
       "      <td>0.0</td>\n",
       "      <td>1.0</td>\n",
       "      <td>0.0</td>\n",
       "      <td>2.0</td>\n",
       "      <td>2.0</td>\n",
       "      <td>1.0</td>\n",
       "      <td>1.0</td>\n",
       "      <td>9.300000e+01</td>\n",
       "      <td>2.0</td>\n",
       "      <td>1.0</td>\n",
       "      <td>1.0</td>\n",
       "      <td>5.0</td>\n",
       "      <td>3.0</td>\n",
       "      <td>0.0</td>\n",
       "      <td>0.0</td>\n",
       "      <td>0.0</td>\n",
       "      <td>0.0</td>\n",
       "      <td>0.0</td>\n",
       "      <td>0.0</td>\n",
       "      <td>0.0</td>\n",
       "      <td>0.0</td>\n",
       "      <td>0.0</td>\n",
       "      <td>0.0</td>\n",
       "      <td>0.0</td>\n",
       "      <td>33.3</td>\n",
       "      <td>1</td>\n",
       "      <td>0</td>\n",
       "      <td>0</td>\n",
       "    </tr>\n",
       "    <tr>\n",
       "      <th>2</th>\n",
       "      <td>76.0</td>\n",
       "      <td>2.0</td>\n",
       "      <td>1.0</td>\n",
       "      <td>0.0</td>\n",
       "      <td>142.0</td>\n",
       "      <td>58.0</td>\n",
       "      <td>2.0</td>\n",
       "      <td>2.0</td>\n",
       "      <td>1.0</td>\n",
       "      <td>1.0</td>\n",
       "      <td>0.5</td>\n",
       "      <td>0.0</td>\n",
       "      <td>1.0</td>\n",
       "      <td>1.0</td>\n",
       "      <td>1.0</td>\n",
       "      <td>1.0</td>\n",
       "      <td>5.397605e-79</td>\n",
       "      <td>1.0</td>\n",
       "      <td>2.0</td>\n",
       "      <td>1.0</td>\n",
       "      <td>7.0</td>\n",
       "      <td>5.0</td>\n",
       "      <td>0.0</td>\n",
       "      <td>0.0</td>\n",
       "      <td>1.0</td>\n",
       "      <td>1.0</td>\n",
       "      <td>1.0</td>\n",
       "      <td>0.0</td>\n",
       "      <td>0.0</td>\n",
       "      <td>0.0</td>\n",
       "      <td>0.0</td>\n",
       "      <td>0.0</td>\n",
       "      <td>0.0</td>\n",
       "      <td>29.7</td>\n",
       "      <td>0</td>\n",
       "      <td>1</td>\n",
       "      <td>1</td>\n",
       "    </tr>\n",
       "    <tr>\n",
       "      <th>3</th>\n",
       "      <td>66.0</td>\n",
       "      <td>1.0</td>\n",
       "      <td>1.0</td>\n",
       "      <td>0.0</td>\n",
       "      <td>190.0</td>\n",
       "      <td>70.0</td>\n",
       "      <td>2.0</td>\n",
       "      <td>2.0</td>\n",
       "      <td>1.0</td>\n",
       "      <td>1.0</td>\n",
       "      <td>0.5</td>\n",
       "      <td>0.0</td>\n",
       "      <td>1.0</td>\n",
       "      <td>1.0</td>\n",
       "      <td>1.0</td>\n",
       "      <td>1.0</td>\n",
       "      <td>5.397605e-79</td>\n",
       "      <td>1.0</td>\n",
       "      <td>2.0</td>\n",
       "      <td>1.0</td>\n",
       "      <td>6.0</td>\n",
       "      <td>1.0</td>\n",
       "      <td>0.0</td>\n",
       "      <td>0.0</td>\n",
       "      <td>0.0</td>\n",
       "      <td>0.0</td>\n",
       "      <td>0.0</td>\n",
       "      <td>0.0</td>\n",
       "      <td>0.0</td>\n",
       "      <td>0.0</td>\n",
       "      <td>0.0</td>\n",
       "      <td>0.0</td>\n",
       "      <td>0.0</td>\n",
       "      <td>27.3</td>\n",
       "      <td>0</td>\n",
       "      <td>0</td>\n",
       "      <td>0</td>\n",
       "    </tr>\n",
       "    <tr>\n",
       "      <th>4</th>\n",
       "      <td>40.0</td>\n",
       "      <td>2.0</td>\n",
       "      <td>1.0</td>\n",
       "      <td>1.0</td>\n",
       "      <td>175.0</td>\n",
       "      <td>63.0</td>\n",
       "      <td>2.0</td>\n",
       "      <td>4.0</td>\n",
       "      <td>3.0</td>\n",
       "      <td>1.0</td>\n",
       "      <td>1.0</td>\n",
       "      <td>0.0</td>\n",
       "      <td>1.0</td>\n",
       "      <td>1.0</td>\n",
       "      <td>1.0</td>\n",
       "      <td>2.0</td>\n",
       "      <td>5.397605e-79</td>\n",
       "      <td>1.0</td>\n",
       "      <td>2.0</td>\n",
       "      <td>1.0</td>\n",
       "      <td>7.0</td>\n",
       "      <td>2.0</td>\n",
       "      <td>0.0</td>\n",
       "      <td>0.0</td>\n",
       "      <td>0.0</td>\n",
       "      <td>0.0</td>\n",
       "      <td>0.0</td>\n",
       "      <td>0.0</td>\n",
       "      <td>0.0</td>\n",
       "      <td>0.0</td>\n",
       "      <td>0.0</td>\n",
       "      <td>0.0</td>\n",
       "      <td>0.0</td>\n",
       "      <td>31.0</td>\n",
       "      <td>1</td>\n",
       "      <td>1</td>\n",
       "      <td>1</td>\n",
       "    </tr>\n",
       "  </tbody>\n",
       "</table>\n",
       "</div>"
      ],
      "text/plain": [
       "    age  sex  race  martial  weight  height  overweight  education  income  \\\n",
       "0  80.0  2.0   1.0      0.0   130.0    64.0         1.0        4.0     2.0   \n",
       "1  33.0  2.0   2.0      0.0   200.0    65.0         2.0        4.0     1.0   \n",
       "2  76.0  2.0   1.0      0.0   142.0    58.0         2.0        2.0     1.0   \n",
       "3  66.0  1.0   1.0      0.0   190.0    70.0         2.0        2.0     1.0   \n",
       "4  40.0  2.0   1.0      1.0   175.0    63.0         2.0        4.0     3.0   \n",
       "\n",
       "   home  employment  marijuana  coverage  checkup  primaryphysician  exercise  \\\n",
       "0   1.0         1.0        0.0       1.0      1.0               1.0       2.0   \n",
       "1   0.0         1.0        0.0       2.0      2.0               1.0       1.0   \n",
       "2   1.0         0.5        0.0       1.0      1.0               1.0       1.0   \n",
       "3   1.0         0.5        0.0       1.0      1.0               1.0       1.0   \n",
       "4   1.0         1.0        0.0       1.0      1.0               1.0       2.0   \n",
       "\n",
       "   weeklydrinks  smoker  alcohol  binge  sleep  health  heart_dis  cancer  \\\n",
       "0  5.397605e-79     1.0      2.0    1.0    7.0     2.0        0.0     0.0   \n",
       "1  9.300000e+01     2.0      1.0    1.0    5.0     3.0        0.0     0.0   \n",
       "2  5.397605e-79     1.0      2.0    1.0    7.0     5.0        0.0     0.0   \n",
       "3  5.397605e-79     1.0      2.0    1.0    6.0     1.0        0.0     0.0   \n",
       "4  5.397605e-79     1.0      2.0    1.0    7.0     2.0        0.0     0.0   \n",
       "\n",
       "   depression  stroke  diabete3  heart_attack  skin_cancer  \\\n",
       "0         0.0     0.0       0.0           0.0          1.0   \n",
       "1         0.0     0.0       0.0           0.0          0.0   \n",
       "2         1.0     1.0       1.0           0.0          0.0   \n",
       "3         0.0     0.0       0.0           0.0          0.0   \n",
       "4         0.0     0.0       0.0           0.0          0.0   \n",
       "\n",
<<<<<<< HEAD
       "   chronic_bronchitis  kidney_disease  arthritis  asthma   bmi  obese  \n",
       "0                 0.0             0.0        1.0     0.0  22.3      0  \n",
       "1                 0.0             0.0        0.0     0.0  33.3      1  \n",
       "2                 0.0             0.0        0.0     0.0  29.7      0  \n",
       "3                 0.0             0.0        0.0     0.0  27.3      0  \n",
       "4                 0.0             0.0        0.0     0.0  31.0      1  "
      ]
     },
     "execution_count": 1289,
=======
       "   heart_attack  skin_cancer  chronic_bronchitis  kidney_disease  arthritis  \\\n",
       "0           0.0          1.0                 0.0             0.0        1.0   \n",
       "1           0.0          0.0                 0.0             0.0        0.0   \n",
       "2           0.0          0.0                 0.0             0.0        0.0   \n",
       "3           0.0          0.0                 0.0             0.0        0.0   \n",
       "5           0.0          0.0                 0.0             0.0        0.0   \n",
       "\n",
       "    bmi  obese  comorbid  chronic  \n",
       "0  22.3      0         1        1  \n",
       "1  33.3      1         0        0  \n",
       "2  29.7      0         1        1  \n",
       "3  27.3      0         0        0  \n",
       "5  31.5      1         1        1  "
      ]
     },
     "execution_count": 38,
>>>>>>> 2a962d549d51068955895e0e87d75a4243dbf63e
     "metadata": {},
     "output_type": "execute_result"
    }
   ],
   "source": [
    "#importing data that is ready for processing\n",
    "\n",
    "%store -r cdc\n",
    "\n",
    "pd.set_option('display.max_columns', 500)\n",
    "\n",
    "cdc.head()"
   ]
  },
  {
   "cell_type": "code",
<<<<<<< HEAD
   "execution_count": 1290,
=======
   "execution_count": 39,
>>>>>>> 2a962d549d51068955895e0e87d75a4243dbf63e
   "metadata": {},
   "outputs": [],
   "source": [
    "#a Subset of all the chronic conditions to create a feature that identifys individuals with \n",
    "#comorbidity(individuals with 2 or more chronic conditions)\n",
    "\n",
    "subset = cdc[['heart_dis', 'cancer', 'stroke', 'heart_attack', 'diabete3', 'chronic_bronchitis',\n",
    "            'kidney_disease', 'arthritis',]]\n"
   ]
  },
  {
   "cell_type": "code",
   "execution_count": 1291,
   "metadata": {},
   "outputs": [],
   "source": [
    "#adding the values of each of the independent variable to identify participants with more than one chronic condition \n",
    "#after adding the values, if the sum was greater than two, the comorbid value will be assigned the value of one\n",
    "cdc['comorbid'] = subset.sum(axis=1)\n"
   ]
  },
  {
   "cell_type": "code",
<<<<<<< HEAD
   "execution_count": 1292,
=======
   "execution_count": 40,
>>>>>>> 2a962d549d51068955895e0e87d75a4243dbf63e
   "metadata": {},
   "outputs": [],
   "source": [
    "cdc.sex.value_counts(normalize=True)\n",
    "\n",
    "cdc.sex = cdc.sex.replace({3:cdc.sex.median()})"
   ]
  },
  {
   "cell_type": "code",
   "execution_count": 1293,
   "metadata": {},
   "outputs": [
    {
     "data": {
      "text/plain": [
       "0    0.765142\n",
       "1    0.234858\n",
       "Name: comorbid, dtype: float64"
      ]
     },
     "execution_count": 1293,
     "metadata": {},
     "output_type": "execute_result"
    }
   ],
   "source": [
    "cdc['comorbid'] = np.where(cdc['comorbid']>=2, 1, 0)\n",
    "cdc.comorbid.value_counts(normalize=True)"
   ]
  },
  {
   "cell_type": "code",
   "execution_count": 1294,
   "metadata": {},
   "outputs": [
    {
     "data": {
      "text/plain": [
       "1    0.506186\n",
       "0    0.493814\n",
       "Name: chronic, dtype: float64"
      ]
     },
     "execution_count": 1294,
     "metadata": {},
     "output_type": "execute_result"
    }
   ],
   "source": [
    "cdc['chronic'] = subset.sum(axis=1)\n",
    "\n",
    "cdc['chronic'] = np.where(cdc['chronic']>=1, 1, 0)\n",
    "cdc.chronic.value_counts(normalize=True)"
   ]
  },
  {
   "cell_type": "code",
<<<<<<< HEAD
   "execution_count": null,
   "metadata": {},
   "outputs": [],
   "source": []
  },
  {
   "cell_type": "code",
   "execution_count": 1295,
=======
   "execution_count": 41,
>>>>>>> 2a962d549d51068955895e0e87d75a4243dbf63e
   "metadata": {},
   "outputs": [
    {
     "data": {
      "text/html": [
       "<div>\n",
       "<style scoped>\n",
       "    .dataframe tbody tr th:only-of-type {\n",
       "        vertical-align: middle;\n",
       "    }\n",
       "\n",
       "    .dataframe tbody tr th {\n",
       "        vertical-align: top;\n",
       "    }\n",
       "\n",
       "    .dataframe thead th {\n",
       "        text-align: right;\n",
       "    }\n",
       "</style>\n",
       "<table border=\"1\" class=\"dataframe\">\n",
       "  <thead>\n",
       "    <tr style=\"text-align: right;\">\n",
       "      <th></th>\n",
       "      <th>age</th>\n",
       "      <th>sex</th>\n",
       "      <th>race</th>\n",
       "      <th>martial</th>\n",
       "      <th>weight</th>\n",
       "      <th>height</th>\n",
       "      <th>overweight</th>\n",
       "      <th>education</th>\n",
       "      <th>income</th>\n",
       "      <th>home</th>\n",
       "      <th>employment</th>\n",
       "      <th>marijuana</th>\n",
       "      <th>coverage</th>\n",
       "      <th>checkup</th>\n",
       "      <th>primaryphysician</th>\n",
       "      <th>exercise</th>\n",
       "      <th>weeklydrinks</th>\n",
       "      <th>smoker</th>\n",
       "      <th>alcohol</th>\n",
       "      <th>binge</th>\n",
       "      <th>sleep</th>\n",
       "      <th>health</th>\n",
       "      <th>heart_dis</th>\n",
       "      <th>cancer</th>\n",
       "      <th>depression</th>\n",
       "      <th>stroke</th>\n",
       "      <th>diabete3</th>\n",
       "      <th>heart_attack</th>\n",
       "      <th>skin_cancer</th>\n",
       "      <th>chronic_bronchitis</th>\n",
       "      <th>kidney_disease</th>\n",
       "      <th>arthritis</th>\n",
       "      <th>asthma</th>\n",
       "      <th>bmi</th>\n",
       "      <th>obese</th>\n",
       "      <th>comorbid</th>\n",
       "      <th>chronic</th>\n",
       "    </tr>\n",
       "  </thead>\n",
       "  <tbody>\n",
       "    <tr>\n",
       "      <th>0</th>\n",
       "      <td>80.0</td>\n",
       "      <td>2.0</td>\n",
       "      <td>1.0</td>\n",
       "      <td>0.0</td>\n",
       "      <td>130.0</td>\n",
       "      <td>64.0</td>\n",
       "      <td>1.0</td>\n",
       "      <td>4.0</td>\n",
       "      <td>2.0</td>\n",
       "      <td>1.0</td>\n",
       "      <td>1.0</td>\n",
       "      <td>0.0</td>\n",
       "      <td>1.0</td>\n",
       "      <td>1.0</td>\n",
       "      <td>1.0</td>\n",
       "      <td>2.0</td>\n",
       "      <td>5.397605e-79</td>\n",
       "      <td>1.0</td>\n",
       "      <td>2.0</td>\n",
       "      <td>1.0</td>\n",
       "      <td>7.0</td>\n",
       "      <td>2.0</td>\n",
       "      <td>0.0</td>\n",
       "      <td>0.0</td>\n",
       "      <td>0.0</td>\n",
       "      <td>0.0</td>\n",
       "      <td>0.0</td>\n",
       "      <td>0.0</td>\n",
       "      <td>1.0</td>\n",
       "      <td>0.0</td>\n",
       "      <td>0.0</td>\n",
       "      <td>1.0</td>\n",
       "      <td>0.0</td>\n",
       "      <td>22.3</td>\n",
       "      <td>0</td>\n",
       "      <td>0</td>\n",
       "      <td>1</td>\n",
       "    </tr>\n",
       "    <tr>\n",
       "      <th>1</th>\n",
       "      <td>33.0</td>\n",
       "      <td>2.0</td>\n",
       "      <td>2.0</td>\n",
       "      <td>0.0</td>\n",
       "      <td>200.0</td>\n",
       "      <td>65.0</td>\n",
       "      <td>2.0</td>\n",
       "      <td>4.0</td>\n",
       "      <td>1.0</td>\n",
       "      <td>0.0</td>\n",
       "      <td>1.0</td>\n",
       "      <td>0.0</td>\n",
       "      <td>2.0</td>\n",
       "      <td>2.0</td>\n",
       "      <td>1.0</td>\n",
       "      <td>1.0</td>\n",
       "      <td>9.300000e+01</td>\n",
       "      <td>2.0</td>\n",
       "      <td>1.0</td>\n",
       "      <td>1.0</td>\n",
       "      <td>5.0</td>\n",
       "      <td>3.0</td>\n",
       "      <td>0.0</td>\n",
       "      <td>0.0</td>\n",
       "      <td>0.0</td>\n",
       "      <td>0.0</td>\n",
       "      <td>0.0</td>\n",
       "      <td>0.0</td>\n",
       "      <td>0.0</td>\n",
       "      <td>0.0</td>\n",
       "      <td>0.0</td>\n",
       "      <td>0.0</td>\n",
       "      <td>0.0</td>\n",
       "      <td>33.3</td>\n",
       "      <td>1</td>\n",
       "      <td>0</td>\n",
       "      <td>0</td>\n",
       "    </tr>\n",
       "    <tr>\n",
       "      <th>2</th>\n",
       "      <td>76.0</td>\n",
       "      <td>2.0</td>\n",
       "      <td>1.0</td>\n",
       "      <td>0.0</td>\n",
       "      <td>142.0</td>\n",
       "      <td>58.0</td>\n",
       "      <td>2.0</td>\n",
       "      <td>2.0</td>\n",
       "      <td>1.0</td>\n",
       "      <td>1.0</td>\n",
       "      <td>0.5</td>\n",
       "      <td>0.0</td>\n",
       "      <td>1.0</td>\n",
       "      <td>1.0</td>\n",
       "      <td>1.0</td>\n",
       "      <td>1.0</td>\n",
       "      <td>5.397605e-79</td>\n",
       "      <td>1.0</td>\n",
       "      <td>2.0</td>\n",
       "      <td>1.0</td>\n",
       "      <td>7.0</td>\n",
       "      <td>5.0</td>\n",
       "      <td>0.0</td>\n",
       "      <td>0.0</td>\n",
       "      <td>1.0</td>\n",
       "      <td>1.0</td>\n",
       "      <td>1.0</td>\n",
       "      <td>0.0</td>\n",
       "      <td>0.0</td>\n",
       "      <td>0.0</td>\n",
       "      <td>0.0</td>\n",
       "      <td>0.0</td>\n",
       "      <td>0.0</td>\n",
       "      <td>29.7</td>\n",
       "      <td>0</td>\n",
       "      <td>1</td>\n",
       "      <td>1</td>\n",
       "    </tr>\n",
       "    <tr>\n",
       "      <th>3</th>\n",
       "      <td>66.0</td>\n",
       "      <td>1.0</td>\n",
       "      <td>1.0</td>\n",
       "      <td>0.0</td>\n",
       "      <td>190.0</td>\n",
       "      <td>70.0</td>\n",
       "      <td>2.0</td>\n",
       "      <td>2.0</td>\n",
       "      <td>1.0</td>\n",
       "      <td>1.0</td>\n",
       "      <td>0.5</td>\n",
       "      <td>0.0</td>\n",
       "      <td>1.0</td>\n",
       "      <td>1.0</td>\n",
       "      <td>1.0</td>\n",
       "      <td>1.0</td>\n",
       "      <td>5.397605e-79</td>\n",
       "      <td>1.0</td>\n",
       "      <td>2.0</td>\n",
       "      <td>1.0</td>\n",
       "      <td>6.0</td>\n",
       "      <td>1.0</td>\n",
       "      <td>0.0</td>\n",
       "      <td>0.0</td>\n",
       "      <td>0.0</td>\n",
       "      <td>0.0</td>\n",
       "      <td>0.0</td>\n",
       "      <td>0.0</td>\n",
       "      <td>0.0</td>\n",
       "      <td>0.0</td>\n",
       "      <td>0.0</td>\n",
       "      <td>0.0</td>\n",
       "      <td>0.0</td>\n",
       "      <td>27.3</td>\n",
       "      <td>0</td>\n",
       "      <td>0</td>\n",
       "      <td>0</td>\n",
       "    </tr>\n",
       "    <tr>\n",
       "      <th>4</th>\n",
       "      <td>40.0</td>\n",
       "      <td>2.0</td>\n",
       "      <td>1.0</td>\n",
       "      <td>1.0</td>\n",
       "      <td>175.0</td>\n",
       "      <td>63.0</td>\n",
       "      <td>2.0</td>\n",
       "      <td>4.0</td>\n",
       "      <td>3.0</td>\n",
       "      <td>1.0</td>\n",
       "      <td>1.0</td>\n",
       "      <td>0.0</td>\n",
       "      <td>1.0</td>\n",
       "      <td>1.0</td>\n",
       "      <td>1.0</td>\n",
       "      <td>2.0</td>\n",
       "      <td>5.397605e-79</td>\n",
       "      <td>1.0</td>\n",
       "      <td>2.0</td>\n",
       "      <td>1.0</td>\n",
       "      <td>7.0</td>\n",
       "      <td>2.0</td>\n",
       "      <td>0.0</td>\n",
       "      <td>0.0</td>\n",
       "      <td>0.0</td>\n",
       "      <td>0.0</td>\n",
       "      <td>0.0</td>\n",
       "      <td>0.0</td>\n",
       "      <td>0.0</td>\n",
       "      <td>0.0</td>\n",
       "      <td>0.0</td>\n",
       "      <td>0.0</td>\n",
       "      <td>0.0</td>\n",
       "      <td>31.0</td>\n",
       "      <td>1</td>\n",
       "      <td>0</td>\n",
       "      <td>0</td>\n",
       "    </tr>\n",
       "  </tbody>\n",
       "</table>\n",
       "</div>"
      ],
      "text/plain": [
       "    age  sex  race  martial  weight  height  overweight  education  income  \\\n",
       "0  80.0  2.0   1.0      0.0   130.0    64.0         1.0        4.0     2.0   \n",
       "1  33.0  2.0   2.0      0.0   200.0    65.0         2.0        4.0     1.0   \n",
       "2  76.0  2.0   1.0      0.0   142.0    58.0         2.0        2.0     1.0   \n",
       "3  66.0  1.0   1.0      0.0   190.0    70.0         2.0        2.0     1.0   \n",
       "4  40.0  2.0   1.0      1.0   175.0    63.0         2.0        4.0     3.0   \n",
       "\n",
       "   home  employment  marijuana  coverage  checkup  primaryphysician  exercise  \\\n",
       "0   1.0         1.0        0.0       1.0      1.0               1.0       2.0   \n",
       "1   0.0         1.0        0.0       2.0      2.0               1.0       1.0   \n",
       "2   1.0         0.5        0.0       1.0      1.0               1.0       1.0   \n",
       "3   1.0         0.5        0.0       1.0      1.0               1.0       1.0   \n",
       "4   1.0         1.0        0.0       1.0      1.0               1.0       2.0   \n",
       "\n",
       "   weeklydrinks  smoker  alcohol  binge  sleep  health  heart_dis  cancer  \\\n",
       "0  5.397605e-79     1.0      2.0    1.0    7.0     2.0        0.0     0.0   \n",
       "1  9.300000e+01     2.0      1.0    1.0    5.0     3.0        0.0     0.0   \n",
       "2  5.397605e-79     1.0      2.0    1.0    7.0     5.0        0.0     0.0   \n",
       "3  5.397605e-79     1.0      2.0    1.0    6.0     1.0        0.0     0.0   \n",
       "4  5.397605e-79     1.0      2.0    1.0    7.0     2.0        0.0     0.0   \n",
       "\n",
       "   depression  stroke  diabete3  heart_attack  skin_cancer  \\\n",
       "0         0.0     0.0       0.0           0.0          1.0   \n",
       "1         0.0     0.0       0.0           0.0          0.0   \n",
       "2         1.0     1.0       1.0           0.0          0.0   \n",
       "3         0.0     0.0       0.0           0.0          0.0   \n",
       "4         0.0     0.0       0.0           0.0          0.0   \n",
       "\n",
       "   chronic_bronchitis  kidney_disease  arthritis  asthma   bmi  obese  \\\n",
       "0                 0.0             0.0        1.0     0.0  22.3      0   \n",
       "1                 0.0             0.0        0.0     0.0  33.3      1   \n",
       "2                 0.0             0.0        0.0     0.0  29.7      0   \n",
       "3                 0.0             0.0        0.0     0.0  27.3      0   \n",
       "4                 0.0             0.0        0.0     0.0  31.0      1   \n",
       "\n",
       "   comorbid  chronic  \n",
       "0         0        1  \n",
       "1         0        0  \n",
       "2         1        1  \n",
       "3         0        0  \n",
       "4         0        0  "
      ]
     },
<<<<<<< HEAD
     "execution_count": 1295,
=======
     "execution_count": 41,
>>>>>>> 2a962d549d51068955895e0e87d75a4243dbf63e
     "metadata": {},
     "output_type": "execute_result"
    }
   ],
   "source": [
    "cdc.head()"
   ]
  },
  {
   "cell_type": "code",
   "execution_count": 1296,
   "metadata": {},
   "outputs": [
    {
     "data": {
      "image/png": "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\n",
      "text/plain": [
       "<Figure size 576x396 with 1 Axes>"
      ]
     },
     "metadata": {},
     "output_type": "display_data"
    },
    {
     "data": {
      "text/plain": [
       "<matplotlib.axes._subplots.AxesSubplot at 0x2ee5fdb00>"
      ]
     },
     "execution_count": 1296,
     "metadata": {},
     "output_type": "execute_result"
    }
   ],
   "source": [
    "from yellowbrick.features import ParallelCoordinates\n",
    "from yellowbrick.datasets import load_occupancy\n",
    "\n",
    "# Load the classification data set\n",
    "X = cdc[['employment', 'obese', 'checkup', 'smoker', 'binge']]\n",
    "            \n",
    "#target variable\n",
    "y = cdc.chronic\n",
    "\n",
    "\n",
    "# Specify the features of interest and the classes of the target\n",
    "features = ['employment', 'obese', 'checkup', 'smoker', 'binge']\n",
    "classes = [\"not at risk\", \"at risk\"]\n",
    "\n",
    "# Instantiate the visualizer\n",
    "visualizer = ParallelCoordinates(\n",
    "    classes=classes, features=features, sample=0.05, shuffle=True, \n",
    ")\n",
    "\n",
    "# Fit and transform the data to the visualizer\n",
    "visualizer.fit_transform(X, y)\n",
    "\n",
    "# Finalize the title and axes then display the visualization\n",
    "visualizer.show()\n"
   ]
  },
  {
<<<<<<< HEAD
   "cell_type": "markdown",
=======
   "cell_type": "code",
   "execution_count": null,
   "metadata": {},
   "outputs": [],
   "source": []
  },
  {
   "cell_type": "code",
   "execution_count": 42,
>>>>>>> 2a962d549d51068955895e0e87d75a4243dbf63e
   "metadata": {},
   "source": [
    "# Logistic Regression"
   ]
  },
  {
   "cell_type": "code",
<<<<<<< HEAD
   "execution_count": 1297,
=======
   "execution_count": 43,
>>>>>>> 2a962d549d51068955895e0e87d75a4243dbf63e
   "metadata": {},
   "outputs": [
    {
     "data": {
      "text/html": [
       "<div>\n",
       "<style scoped>\n",
       "    .dataframe tbody tr th:only-of-type {\n",
       "        vertical-align: middle;\n",
       "    }\n",
       "\n",
       "    .dataframe tbody tr th {\n",
       "        vertical-align: top;\n",
       "    }\n",
       "\n",
       "    .dataframe thead th {\n",
       "        text-align: right;\n",
       "    }\n",
       "</style>\n",
       "<table border=\"1\" class=\"dataframe\">\n",
       "  <thead>\n",
       "    <tr style=\"text-align: right;\">\n",
       "      <th></th>\n",
       "      <th>age</th>\n",
       "      <th>sex</th>\n",
       "      <th>race</th>\n",
       "      <th>income</th>\n",
       "      <th>home</th>\n",
       "      <th>employment</th>\n",
       "      <th>coverage</th>\n",
       "      <th>checkup</th>\n",
       "      <th>primaryphysician</th>\n",
       "      <th>smoker</th>\n",
       "      <th>binge</th>\n",
       "      <th>sleep</th>\n",
       "      <th>health</th>\n",
       "      <th>obese</th>\n",
       "    </tr>\n",
       "  </thead>\n",
       "  <tbody>\n",
       "    <tr>\n",
       "      <th>0</th>\n",
       "      <td>80.0</td>\n",
       "      <td>2.0</td>\n",
       "      <td>1.0</td>\n",
       "      <td>2.0</td>\n",
       "      <td>1.0</td>\n",
       "      <td>1.0</td>\n",
       "      <td>1.0</td>\n",
       "      <td>1.0</td>\n",
       "      <td>1.0</td>\n",
       "      <td>1.0</td>\n",
       "      <td>1.0</td>\n",
       "      <td>7.0</td>\n",
       "      <td>2.0</td>\n",
       "      <td>0</td>\n",
       "    </tr>\n",
       "    <tr>\n",
       "      <th>1</th>\n",
       "      <td>33.0</td>\n",
       "      <td>2.0</td>\n",
       "      <td>2.0</td>\n",
       "      <td>1.0</td>\n",
       "      <td>0.0</td>\n",
       "      <td>1.0</td>\n",
       "      <td>2.0</td>\n",
       "      <td>2.0</td>\n",
       "      <td>1.0</td>\n",
       "      <td>2.0</td>\n",
       "      <td>1.0</td>\n",
       "      <td>5.0</td>\n",
       "      <td>3.0</td>\n",
       "      <td>1</td>\n",
       "    </tr>\n",
       "    <tr>\n",
       "      <th>2</th>\n",
       "      <td>76.0</td>\n",
       "      <td>2.0</td>\n",
       "      <td>1.0</td>\n",
       "      <td>1.0</td>\n",
       "      <td>1.0</td>\n",
       "      <td>0.5</td>\n",
       "      <td>1.0</td>\n",
       "      <td>1.0</td>\n",
       "      <td>1.0</td>\n",
       "      <td>1.0</td>\n",
       "      <td>1.0</td>\n",
       "      <td>7.0</td>\n",
       "      <td>5.0</td>\n",
       "      <td>0</td>\n",
       "    </tr>\n",
       "    <tr>\n",
       "      <th>3</th>\n",
       "      <td>66.0</td>\n",
       "      <td>1.0</td>\n",
       "      <td>1.0</td>\n",
       "      <td>1.0</td>\n",
       "      <td>1.0</td>\n",
       "      <td>0.5</td>\n",
       "      <td>1.0</td>\n",
       "      <td>1.0</td>\n",
       "      <td>1.0</td>\n",
       "      <td>1.0</td>\n",
       "      <td>1.0</td>\n",
       "      <td>6.0</td>\n",
       "      <td>1.0</td>\n",
       "      <td>0</td>\n",
       "    </tr>\n",
       "    <tr>\n",
       "      <th>4</th>\n",
       "      <td>40.0</td>\n",
       "      <td>2.0</td>\n",
       "      <td>1.0</td>\n",
       "      <td>3.0</td>\n",
       "      <td>1.0</td>\n",
       "      <td>1.0</td>\n",
       "      <td>1.0</td>\n",
       "      <td>1.0</td>\n",
       "      <td>1.0</td>\n",
       "      <td>1.0</td>\n",
       "      <td>1.0</td>\n",
       "      <td>7.0</td>\n",
       "      <td>2.0</td>\n",
       "      <td>1</td>\n",
       "    </tr>\n",
       "  </tbody>\n",
       "</table>\n",
       "</div>"
      ],
      "text/plain": [
       "    age  sex  race  income  home  employment  coverage  checkup  \\\n",
       "0  80.0  2.0   1.0     2.0   1.0         1.0       1.0      1.0   \n",
       "1  33.0  2.0   2.0     1.0   0.0         1.0       2.0      2.0   \n",
       "2  76.0  2.0   1.0     1.0   1.0         0.5       1.0      1.0   \n",
       "3  66.0  1.0   1.0     1.0   1.0         0.5       1.0      1.0   \n",
       "4  40.0  2.0   1.0     3.0   1.0         1.0       1.0      1.0   \n",
       "\n",
       "   primaryphysician  smoker  binge  sleep  health  obese  \n",
       "0               1.0     1.0    1.0    7.0     2.0      0  \n",
       "1               1.0     2.0    1.0    5.0     3.0      1  \n",
       "2               1.0     1.0    1.0    7.0     5.0      0  \n",
       "3               1.0     1.0    1.0    6.0     1.0      0  \n",
       "4               1.0     1.0    1.0    7.0     2.0      1  "
      ]
     },
<<<<<<< HEAD
     "execution_count": 1297,
=======
     "execution_count": 43,
>>>>>>> 2a962d549d51068955895e0e87d75a4243dbf63e
     "metadata": {},
     "output_type": "execute_result"
    }
   ],
   "source": [
    "#selecting the target and independent variables\n",
    "\n",
    "#independent variables\n",
    "X = cdc.drop(['chronic', 'heart_dis', 'cancer', 'stroke', 'diabete3', \n",
    "              'heart_attack', 'skin_cancer', 'chronic_bronchitis', 'kidney_disease', \n",
    "              'arthritis', 'comorbid', 'arthritis', 'depression', 'asthma',\n",
    "              \n",
    "              'weight', 'height', 'marijuana', 'weeklydrinks', 'alcohol', 'exercise', 'education',\n",
    "             'overweight', 'bmi', 'martial'\n",
    "                  \n",
    "              ], axis=1)\n",
    "#target variable\n",
    "y = cdc.chronic\n",
    "\n",
    "X.head()"
   ]
  },
  {
   "cell_type": "code",
<<<<<<< HEAD
   "execution_count": 1298,
=======
   "execution_count": 44,
>>>>>>> 2a962d549d51068955895e0e87d75a4243dbf63e
   "metadata": {},
   "outputs": [
    {
     "data": {
      "text/plain": [
       "Index(['age', 'sex', 'race', 'income', 'home', 'employment', 'coverage',\n",
       "       'checkup', 'primaryphysician', 'smoker', 'binge', 'sleep', 'health',\n",
       "       'obese'],\n",
       "      dtype='object')"
      ]
     },
     "execution_count": 1298,
     "metadata": {},
     "output_type": "execute_result"
    }
   ],
   "source": [
    "X_train.columns"
   ]
  },
  {
   "cell_type": "code",
<<<<<<< HEAD
   "execution_count": 1327,
=======
   "execution_count": 135,
>>>>>>> 2a962d549d51068955895e0e87d75a4243dbf63e
   "metadata": {},
   "outputs": [
    {
     "data": {
      "text/html": [
       "<div>\n",
       "<style scoped>\n",
       "    .dataframe tbody tr th:only-of-type {\n",
       "        vertical-align: middle;\n",
       "    }\n",
       "\n",
       "    .dataframe tbody tr th {\n",
       "        vertical-align: top;\n",
       "    }\n",
       "\n",
       "    .dataframe thead th {\n",
       "        text-align: right;\n",
       "    }\n",
       "</style>\n",
       "<table border=\"1\" class=\"dataframe\">\n",
       "  <thead>\n",
       "    <tr style=\"text-align: right;\">\n",
       "      <th></th>\n",
       "      <th>age</th>\n",
       "      <th>race</th>\n",
<<<<<<< HEAD
       "      <th>income</th>\n",
       "      <th>home</th>\n",
       "      <th>employment</th>\n",
       "      <th>coverage</th>\n",
       "      <th>checkup</th>\n",
       "      <th>primaryphysician</th>\n",
       "      <th>smoker</th>\n",
       "      <th>binge</th>\n",
       "      <th>sleep</th>\n",
       "      <th>health</th>\n",
=======
       "      <th>veteran</th>\n",
       "      <th>education</th>\n",
       "      <th>income</th>\n",
       "      <th>own_home</th>\n",
       "      <th>employeed</th>\n",
       "      <th>last_checkup</th>\n",
       "      <th>primary_phys</th>\n",
       "      <th>exer_past30</th>\n",
       "      <th>smoker</th>\n",
       "      <th>alchol</th>\n",
       "      <th>sleep_avg</th>\n",
>>>>>>> 2a962d549d51068955895e0e87d75a4243dbf63e
       "      <th>obese</th>\n",
       "    </tr>\n",
       "  </thead>\n",
       "  <tbody>\n",
       "    <tr>\n",
       "      <th>0</th>\n",
<<<<<<< HEAD
       "      <td>1.000000</td>\n",
       "      <td>1.0</td>\n",
       "      <td>0.0</td>\n",
       "      <td>0.333333</td>\n",
       "      <td>1.0</td>\n",
       "      <td>1.0</td>\n",
       "      <td>0.0</td>\n",
       "      <td>0.000000</td>\n",
=======
       "      <td>80.0</td>\n",
       "      <td>1.0</td>\n",
       "      <td>0.0</td>\n",
       "      <td>4.0</td>\n",
       "      <td>1.0</td>\n",
       "      <td>1.0</td>\n",
       "      <td>1.0</td>\n",
       "      <td>1.0</td>\n",
>>>>>>> 2a962d549d51068955895e0e87d75a4243dbf63e
       "      <td>1.0</td>\n",
       "      <td>0.0</td>\n",
       "      <td>0.0</td>\n",
       "      <td>0.260870</td>\n",
       "      <td>0.25</td>\n",
       "      <td>0.0</td>\n",
<<<<<<< HEAD
       "    </tr>\n",
       "    <tr>\n",
       "      <th>1</th>\n",
       "      <td>0.241935</td>\n",
       "      <td>1.0</td>\n",
       "      <td>0.2</td>\n",
       "      <td>0.000000</td>\n",
       "      <td>0.0</td>\n",
       "      <td>1.0</td>\n",
=======
       "      <td>7.0</td>\n",
       "      <td>0</td>\n",
       "    </tr>\n",
       "    <tr>\n",
       "      <th>1</th>\n",
       "      <td>33.0</td>\n",
       "      <td>2.0</td>\n",
       "      <td>0.0</td>\n",
       "      <td>4.0</td>\n",
       "      <td>0.0</td>\n",
       "      <td>0.0</td>\n",
       "      <td>1.0</td>\n",
       "      <td>2.0</td>\n",
>>>>>>> 2a962d549d51068955895e0e87d75a4243dbf63e
       "      <td>1.0</td>\n",
       "      <td>0.333333</td>\n",
       "      <td>1.0</td>\n",
       "      <td>1.0</td>\n",
       "      <td>0.0</td>\n",
       "      <td>0.173913</td>\n",
       "      <td>0.50</td>\n",
       "      <td>1.0</td>\n",
<<<<<<< HEAD
       "    </tr>\n",
       "    <tr>\n",
       "      <th>2</th>\n",
       "      <td>0.935484</td>\n",
       "      <td>1.0</td>\n",
       "      <td>0.0</td>\n",
       "      <td>0.000000</td>\n",
       "      <td>1.0</td>\n",
       "      <td>0.5</td>\n",
=======
       "      <td>5.0</td>\n",
       "      <td>1</td>\n",
       "    </tr>\n",
       "    <tr>\n",
       "      <th>2</th>\n",
       "      <td>76.0</td>\n",
       "      <td>1.0</td>\n",
       "      <td>0.0</td>\n",
       "      <td>2.0</td>\n",
>>>>>>> 2a962d549d51068955895e0e87d75a4243dbf63e
       "      <td>0.0</td>\n",
       "      <td>0.000000</td>\n",
       "      <td>1.0</td>\n",
<<<<<<< HEAD
       "      <td>0.0</td>\n",
=======
       "      <td>3.0</td>\n",
       "      <td>1.0</td>\n",
       "      <td>1.0</td>\n",
       "      <td>1.0</td>\n",
>>>>>>> 2a962d549d51068955895e0e87d75a4243dbf63e
       "      <td>0.0</td>\n",
       "      <td>0.260870</td>\n",
       "      <td>1.00</td>\n",
       "      <td>0.0</td>\n",
<<<<<<< HEAD
       "    </tr>\n",
       "    <tr>\n",
       "      <th>3</th>\n",
       "      <td>0.774194</td>\n",
       "      <td>0.0</td>\n",
       "      <td>0.0</td>\n",
       "      <td>0.000000</td>\n",
       "      <td>1.0</td>\n",
       "      <td>0.5</td>\n",
       "      <td>0.0</td>\n",
       "      <td>0.000000</td>\n",
       "      <td>1.0</td>\n",
       "      <td>0.0</td>\n",
       "      <td>0.0</td>\n",
       "      <td>0.217391</td>\n",
       "      <td>0.00</td>\n",
=======
       "      <td>7.0</td>\n",
       "      <td>0</td>\n",
       "    </tr>\n",
       "    <tr>\n",
       "      <th>3</th>\n",
       "      <td>66.0</td>\n",
       "      <td>1.0</td>\n",
       "      <td>0.0</td>\n",
       "      <td>2.0</td>\n",
       "      <td>0.0</td>\n",
       "      <td>1.0</td>\n",
       "      <td>3.0</td>\n",
       "      <td>1.0</td>\n",
       "      <td>1.0</td>\n",
       "      <td>1.0</td>\n",
       "      <td>0.0</td>\n",
       "      <td>0.0</td>\n",
       "      <td>6.0</td>\n",
       "      <td>0</td>\n",
       "    </tr>\n",
       "    <tr>\n",
       "      <th>5</th>\n",
       "      <td>80.0</td>\n",
       "      <td>1.0</td>\n",
       "      <td>0.0</td>\n",
       "      <td>3.0</td>\n",
       "      <td>2.0</td>\n",
       "      <td>1.0</td>\n",
       "      <td>3.0</td>\n",
       "      <td>1.0</td>\n",
       "      <td>1.0</td>\n",
       "      <td>0.0</td>\n",
       "      <td>0.0</td>\n",
       "      <td>0.0</td>\n",
       "      <td>6.0</td>\n",
       "      <td>1</td>\n",
       "    </tr>\n",
       "  </tbody>\n",
       "</table>\n",
       "</div>"
      ],
      "text/plain": [
       "    age  race  veteran  education  income  own_home  employeed  last_checkup  \\\n",
       "0  80.0   1.0      0.0        4.0     1.0       1.0        1.0           1.0   \n",
       "1  33.0   2.0      0.0        4.0     0.0       0.0        1.0           2.0   \n",
       "2  76.0   1.0      0.0        2.0     0.0       1.0        3.0           1.0   \n",
       "3  66.0   1.0      0.0        2.0     0.0       1.0        3.0           1.0   \n",
       "5  80.0   1.0      0.0        3.0     2.0       1.0        3.0           1.0   \n",
       "\n",
       "   primary_phys  exer_past30  smoker  alchol  sleep_avg  obese  \n",
       "0           1.0          0.0     0.0     0.0        7.0      0  \n",
       "1           1.0          1.0     1.0     1.0        5.0      1  \n",
       "2           1.0          1.0     0.0     0.0        7.0      0  \n",
       "3           1.0          1.0     0.0     0.0        6.0      0  \n",
       "5           1.0          0.0     0.0     0.0        6.0      1  "
      ]
     },
     "execution_count": 135,
     "metadata": {},
     "output_type": "execute_result"
    }
   ],
   "source": [
    "#selecting the target and independent variables\n",
    "\n",
    "#independent variables\n",
    "X = cdc.drop(['chronic', 'heart_dis', 'cancer', 'stroke', 'diabete3', 'asthma3',\n",
    "              'heart_attack', 'skin_cancer', 'chronic_bronchitis', 'kidney_disease', \n",
    "              'arthritis', 'comorbid', 'arthritis', 'mental_health', 'depression',\n",
    "              'weekly_drinks', 'bmi', 'overweight', 'weight', ''\n",
    "              'weekly_drinks', 'bmi', 'overweight', 'weight', 'marital', 'marijuana',\n",
    "              'height','health_coverage', 'sex'\n",
    "              ], axis=1)\n",
    "#target variable\n",
    "y = cdc.chronic\n",
    "X.head()"
   ]
  },
  {
   "cell_type": "code",
   "execution_count": null,
   "metadata": {},
   "outputs": [],
   "source": []
  },
  {
   "cell_type": "code",
   "execution_count": 136,
   "metadata": {},
   "outputs": [
    {
     "data": {
      "text/html": [
       "<div>\n",
       "<style scoped>\n",
       "    .dataframe tbody tr th:only-of-type {\n",
       "        vertical-align: middle;\n",
       "    }\n",
       "\n",
       "    .dataframe tbody tr th {\n",
       "        vertical-align: top;\n",
       "    }\n",
       "\n",
       "    .dataframe thead th {\n",
       "        text-align: right;\n",
       "    }\n",
       "</style>\n",
       "<table border=\"1\" class=\"dataframe\">\n",
       "  <thead>\n",
       "    <tr style=\"text-align: right;\">\n",
       "      <th></th>\n",
       "      <th>age</th>\n",
       "      <th>race</th>\n",
       "      <th>veteran</th>\n",
       "      <th>education</th>\n",
       "      <th>income</th>\n",
       "      <th>own_home</th>\n",
       "      <th>employeed</th>\n",
       "      <th>last_checkup</th>\n",
       "      <th>primary_phys</th>\n",
       "      <th>exer_past30</th>\n",
       "      <th>smoker</th>\n",
       "      <th>alchol</th>\n",
       "      <th>sleep_avg</th>\n",
       "      <th>obese</th>\n",
       "    </tr>\n",
       "  </thead>\n",
       "  <tbody>\n",
       "    <tr>\n",
       "      <th>0</th>\n",
       "      <td>1.000000</td>\n",
       "      <td>0.0</td>\n",
       "      <td>0.0</td>\n",
       "      <td>1.000000</td>\n",
       "      <td>0.333333</td>\n",
       "      <td>1.0</td>\n",
       "      <td>0.333333</td>\n",
       "      <td>0.000000</td>\n",
       "      <td>1.0</td>\n",
       "      <td>0.0</td>\n",
       "      <td>0.0</td>\n",
       "      <td>0.0</td>\n",
       "      <td>0.260870</td>\n",
       "      <td>0.0</td>\n",
       "    </tr>\n",
       "    <tr>\n",
       "      <th>1</th>\n",
       "      <td>0.241935</td>\n",
       "      <td>0.2</td>\n",
       "      <td>0.0</td>\n",
       "      <td>1.000000</td>\n",
       "      <td>0.000000</td>\n",
       "      <td>0.0</td>\n",
       "      <td>0.333333</td>\n",
       "      <td>0.333333</td>\n",
       "      <td>1.0</td>\n",
       "      <td>1.0</td>\n",
       "      <td>1.0</td>\n",
       "      <td>1.0</td>\n",
       "      <td>0.173913</td>\n",
       "      <td>1.0</td>\n",
       "    </tr>\n",
       "    <tr>\n",
       "      <th>2</th>\n",
       "      <td>0.935484</td>\n",
       "      <td>0.0</td>\n",
       "      <td>0.0</td>\n",
       "      <td>0.333333</td>\n",
       "      <td>0.000000</td>\n",
       "      <td>1.0</td>\n",
       "      <td>1.000000</td>\n",
       "      <td>0.000000</td>\n",
       "      <td>1.0</td>\n",
       "      <td>1.0</td>\n",
       "      <td>0.0</td>\n",
       "      <td>0.0</td>\n",
       "      <td>0.260870</td>\n",
       "      <td>0.0</td>\n",
       "    </tr>\n",
       "    <tr>\n",
       "      <th>3</th>\n",
       "      <td>0.774194</td>\n",
       "      <td>0.0</td>\n",
       "      <td>0.0</td>\n",
       "      <td>0.333333</td>\n",
       "      <td>0.000000</td>\n",
       "      <td>1.0</td>\n",
       "      <td>1.000000</td>\n",
       "      <td>0.000000</td>\n",
       "      <td>1.0</td>\n",
       "      <td>1.0</td>\n",
       "      <td>0.0</td>\n",
       "      <td>0.0</td>\n",
       "      <td>0.217391</td>\n",
>>>>>>> 2a962d549d51068955895e0e87d75a4243dbf63e
       "      <td>0.0</td>\n",
       "    </tr>\n",
       "    <tr>\n",
       "      <th>4</th>\n",
<<<<<<< HEAD
       "      <td>0.354839</td>\n",
       "      <td>1.0</td>\n",
       "      <td>0.0</td>\n",
       "      <td>0.666667</td>\n",
       "      <td>1.0</td>\n",
       "      <td>1.0</td>\n",
       "      <td>0.0</td>\n",
       "      <td>0.000000</td>\n",
       "      <td>1.0</td>\n",
       "      <td>0.0</td>\n",
       "      <td>0.0</td>\n",
       "      <td>0.260870</td>\n",
       "      <td>0.25</td>\n",
=======
       "      <td>1.000000</td>\n",
       "      <td>0.0</td>\n",
       "      <td>0.0</td>\n",
       "      <td>0.666667</td>\n",
       "      <td>0.666667</td>\n",
       "      <td>1.0</td>\n",
       "      <td>1.000000</td>\n",
       "      <td>0.000000</td>\n",
       "      <td>1.0</td>\n",
       "      <td>0.0</td>\n",
       "      <td>0.0</td>\n",
       "      <td>0.0</td>\n",
       "      <td>0.217391</td>\n",
>>>>>>> 2a962d549d51068955895e0e87d75a4243dbf63e
       "      <td>1.0</td>\n",
       "    </tr>\n",
       "  </tbody>\n",
       "</table>\n",
       "</div>"
      ],
      "text/plain": [
<<<<<<< HEAD
       "        age  sex  race    income  home  employment  coverage   checkup  \\\n",
       "0  1.000000  1.0   0.0  0.333333   1.0         1.0       0.0  0.000000   \n",
       "1  0.241935  1.0   0.2  0.000000   0.0         1.0       1.0  0.333333   \n",
       "2  0.935484  1.0   0.0  0.000000   1.0         0.5       0.0  0.000000   \n",
       "3  0.774194  0.0   0.0  0.000000   1.0         0.5       0.0  0.000000   \n",
       "4  0.354839  1.0   0.0  0.666667   1.0         1.0       0.0  0.000000   \n",
       "\n",
       "   primaryphysician  smoker  binge     sleep  health  obese  \n",
       "0               1.0     0.0    0.0  0.260870    0.25    0.0  \n",
       "1               1.0     1.0    0.0  0.173913    0.50    1.0  \n",
       "2               1.0     0.0    0.0  0.260870    1.00    0.0  \n",
       "3               1.0     0.0    0.0  0.217391    0.00    0.0  \n",
       "4               1.0     0.0    0.0  0.260870    0.25    1.0  "
      ]
     },
     "execution_count": 1327,
=======
       "        age  race  veteran  education    income  own_home  employeed  \\\n",
       "0  1.000000   0.0      0.0   1.000000  0.333333       1.0   0.333333   \n",
       "1  0.241935   0.2      0.0   1.000000  0.000000       0.0   0.333333   \n",
       "2  0.935484   0.0      0.0   0.333333  0.000000       1.0   1.000000   \n",
       "3  0.774194   0.0      0.0   0.333333  0.000000       1.0   1.000000   \n",
       "4  1.000000   0.0      0.0   0.666667  0.666667       1.0   1.000000   \n",
       "\n",
       "   last_checkup  primary_phys  exer_past30  smoker  alchol  sleep_avg  obese  \n",
       "0      0.000000           1.0          0.0     0.0     0.0   0.260870    0.0  \n",
       "1      0.333333           1.0          1.0     1.0     1.0   0.173913    1.0  \n",
       "2      0.000000           1.0          1.0     0.0     0.0   0.260870    0.0  \n",
       "3      0.000000           1.0          1.0     0.0     0.0   0.217391    0.0  \n",
       "4      0.000000           1.0          0.0     0.0     0.0   0.217391    1.0  "
      ]
     },
     "execution_count": 136,
>>>>>>> 2a962d549d51068955895e0e87d75a4243dbf63e
     "metadata": {},
     "output_type": "execute_result"
    }
   ],
   "source": [
    "#scaling data to put data points on a scale of zero to one\n",
    "\n",
    "scaler = MinMaxScaler()\n",
    "scaled_cdc = scaler.fit_transform(X)\n",
    "\n",
    "scaled_cdc_sub = pd.DataFrame(scaled_cdc, columns=X.columns)\n",
    "\n",
    "scaled_cdc_sub.round(2)\n",
    "\n",
    "scaled_cdc_sub.head()"
   ]
  },
  {
   "cell_type": "code",
<<<<<<< HEAD
   "execution_count": 1328,
   "metadata": {},
   "outputs": [],
   "source": [
    "from sklearn.model_selection import train_test_split"
   ]
  },
  {
   "cell_type": "code",
   "execution_count": 1329,
   "metadata": {},
   "outputs": [
    {
     "name": "stdout",
     "output_type": "stream",
     "text": [
      "Stored 'cdc' (DataFrame)\n"
     ]
    }
   ],
=======
   "execution_count": null,
   "metadata": {},
   "outputs": [],
>>>>>>> 2a962d549d51068955895e0e87d75a4243dbf63e
   "source": [
    "%store cdc"
   ]
  },
  {
   "cell_type": "code",
   "execution_count": 1330,
   "metadata": {},
   "outputs": [],
   "source": [
    "# relative position\n",
    "\n",
    "cdc.to_csv('/Users/lidetalemu/Documents/cdc_survey_data/cdc_clean.csv')"
   ]
  },
  {
   "cell_type": "markdown",
   "metadata": {},
   "source": [
    "#  Modeling"
   ]
  },
  {
   "cell_type": "markdown",
   "metadata": {},
   "source": [
    "# Logistic Regression"
   ]
  },
  {
   "cell_type": "code",
<<<<<<< HEAD
   "execution_count": 1331,
=======
   "execution_count": 137,
>>>>>>> 2a962d549d51068955895e0e87d75a4243dbf63e
   "metadata": {},
   "outputs": [
    {
     "name": "stderr",
     "output_type": "stream",
     "text": [
      "/opt/anaconda3/lib/python3.7/site-packages/sklearn/linear_model/_logistic.py:940: ConvergenceWarning: lbfgs failed to converge (status=1):\n",
      "STOP: TOTAL NO. of ITERATIONS REACHED LIMIT.\n",
      "\n",
      "Increase the number of iterations (max_iter) or scale the data as shown in:\n",
      "    https://scikit-learn.org/stable/modules/preprocessing.html\n",
      "Please also refer to the documentation for alternative solver options:\n",
      "    https://scikit-learn.org/stable/modules/linear_model.html#logistic-regression\n",
      "  extra_warning_msg=_LOGISTIC_SOLVER_CONVERGENCE_MSG)\n"
     ]
    }
   ],
   "source": [
    "#Spliting data in to training and test sets\n",
    "\n",
    "X_train, X_test, y_train, y_test = train_test_split(X, y, test_size=0.2, random_state=28)\n",
    "\n",
    "\n",
    "#instantiating logistic regression model\n",
    "\n",
    "log_reg = LogisticRegression()\n",
    "\n",
    "#fiting logistic regression to training data\n",
    "\n",
    "log_model = log_reg.fit(X_train, y_train)"
   ]
  },
  {
   "cell_type": "code",
<<<<<<< HEAD
   "execution_count": 1332,
=======
   "execution_count": 138,
>>>>>>> 2a962d549d51068955895e0e87d75a4243dbf63e
   "metadata": {},
   "outputs": [
    {
     "data": {
      "text/plain": [
<<<<<<< HEAD
       "0.7653613498885705"
      ]
     },
     "execution_count": 1332,
=======
       "0.750669781314751"
      ]
     },
     "execution_count": 138,
>>>>>>> 2a962d549d51068955895e0e87d75a4243dbf63e
     "metadata": {},
     "output_type": "execute_result"
    }
   ],
   "source": [
    "#acuracy score for the logistic regression model\n",
    "\n",
    "log_model.score(X_test, y_test)"
   ]
  },
  {
   "cell_type": "code",
<<<<<<< HEAD
   "execution_count": 1333,
   "metadata": {},
   "outputs": [
    {
     "data": {
      "text/plain": [
       "0.765900183178297"
      ]
     },
     "execution_count": 1333,
     "metadata": {},
     "output_type": "execute_result"
    }
   ],
   "source": [
    "log_model.score(X_train, y_train)"
   ]
  },
  {
   "cell_type": "code",
   "execution_count": 1334,
=======
   "execution_count": 139,
>>>>>>> 2a962d549d51068955895e0e87d75a4243dbf63e
   "metadata": {},
   "outputs": [],
   "source": [
    "#coefficients of the model\n",
    "\n",
    "coef = log_model.coef_.flatten()"
   ]
  },
  {
   "cell_type": "code",
<<<<<<< HEAD
   "execution_count": 1341,
=======
   "execution_count": 140,
>>>>>>> 2a962d549d51068955895e0e87d75a4243dbf63e
   "metadata": {},
   "outputs": [
    {
     "data": {
      "text/plain": [
<<<<<<< HEAD
       "(293157, 14)"
      ]
     },
     "execution_count": 1341,
     "metadata": {},
     "output_type": "execute_result"
    }
   ],
   "source": [
    "X_train.shape"
   ]
  },
  {
   "cell_type": "code",
   "execution_count": 1342,
   "metadata": {},
   "outputs": [
    {
     "data": {
      "text/plain": [
       "(1, 14)"
      ]
     },
     "execution_count": 1342,
     "metadata": {},
     "output_type": "execute_result"
    }
   ],
   "source": [
    "log_model.coef_.shape"
   ]
  },
  {
   "cell_type": "code",
   "execution_count": 1364,
   "metadata": {},
   "outputs": [
    {
     "data": {
      "text/html": [
       "<div>\n",
       "<style scoped>\n",
       "    .dataframe tbody tr th:only-of-type {\n",
       "        vertical-align: middle;\n",
       "    }\n",
       "\n",
       "    .dataframe tbody tr th {\n",
       "        vertical-align: top;\n",
       "    }\n",
       "\n",
       "    .dataframe thead th {\n",
       "        text-align: right;\n",
       "    }\n",
       "</style>\n",
       "<table border=\"1\" class=\"dataframe\">\n",
       "  <thead>\n",
       "    <tr style=\"text-align: right;\">\n",
       "      <th></th>\n",
       "      <th>importance</th>\n",
       "      <th>features</th>\n",
       "    </tr>\n",
       "  </thead>\n",
       "  <tbody>\n",
       "    <tr>\n",
       "      <th>12</th>\n",
       "      <td>0.772065</td>\n",
       "      <td>health</td>\n",
       "    </tr>\n",
       "    <tr>\n",
       "      <th>13</th>\n",
       "      <td>0.496118</td>\n",
       "      <td>obese</td>\n",
       "    </tr>\n",
       "    <tr>\n",
       "      <th>8</th>\n",
       "      <td>0.336687</td>\n",
       "      <td>primaryphysician</td>\n",
       "    </tr>\n",
       "    <tr>\n",
       "      <th>9</th>\n",
       "      <td>0.287119</td>\n",
       "      <td>smoker</td>\n",
       "    </tr>\n",
       "    <tr>\n",
       "      <th>0</th>\n",
       "      <td>0.063601</td>\n",
       "      <td>age</td>\n",
       "    </tr>\n",
       "    <tr>\n",
       "      <th>1</th>\n",
       "      <td>0.020173</td>\n",
       "      <td>sex</td>\n",
       "    </tr>\n",
       "    <tr>\n",
       "      <th>2</th>\n",
       "      <td>-0.041234</td>\n",
       "      <td>race</td>\n",
       "    </tr>\n",
       "    <tr>\n",
       "      <th>4</th>\n",
       "      <td>-0.065498</td>\n",
       "      <td>home</td>\n",
       "    </tr>\n",
       "    <tr>\n",
       "      <th>11</th>\n",
       "      <td>-0.074971</td>\n",
       "      <td>sleep</td>\n",
       "    </tr>\n",
       "    <tr>\n",
       "      <th>10</th>\n",
       "      <td>-0.098805</td>\n",
       "      <td>binge</td>\n",
       "    </tr>\n",
       "    <tr>\n",
       "      <th>3</th>\n",
       "      <td>-0.154650</td>\n",
       "      <td>income</td>\n",
       "    </tr>\n",
       "    <tr>\n",
       "      <th>5</th>\n",
       "      <td>-0.238418</td>\n",
       "      <td>employment</td>\n",
       "    </tr>\n",
       "    <tr>\n",
       "      <th>7</th>\n",
       "      <td>-0.303838</td>\n",
       "      <td>checkup</td>\n",
       "    </tr>\n",
       "    <tr>\n",
       "      <th>6</th>\n",
       "      <td>-0.545165</td>\n",
       "      <td>coverage</td>\n",
       "    </tr>\n",
       "  </tbody>\n",
       "</table>\n",
       "</div>"
      ],
      "text/plain": [
       "    importance          features\n",
       "12    0.772065            health\n",
       "13    0.496118             obese\n",
       "8     0.336687  primaryphysician\n",
       "9     0.287119            smoker\n",
       "0     0.063601               age\n",
       "1     0.020173               sex\n",
       "2    -0.041234              race\n",
       "4    -0.065498              home\n",
       "11   -0.074971             sleep\n",
       "10   -0.098805             binge\n",
       "3    -0.154650            income\n",
       "5    -0.238418        employment\n",
       "7    -0.303838           checkup\n",
       "6    -0.545165          coverage"
      ]
     },
     "execution_count": 1364,
     "metadata": {},
     "output_type": "execute_result"
    }
   ],
   "source": [
    "a = pd.DataFrame(log_model.coef_)\n",
    "\n",
    "# \n",
    "\n",
    "# # \n",
    "# # a = a.sort_values(by='importance', ascending=False)\n",
    "# a\n",
    "a = a.T\n",
    "a['features'] = X_train.columns\n",
    "a.columns = ['importance', 'features']\n",
    "a = a.sort_values(by='importance', ascending=False)\n",
    "a"
   ]
  },
  {
   "cell_type": "code",
   "execution_count": null,
   "metadata": {},
   "outputs": [],
   "source": [
    "#['Health Coverage', 'obesity', 'employment', 'your last checkup', 'income']"
   ]
  },
  {
   "cell_type": "code",
   "execution_count": 1365,
   "metadata": {},
   "outputs": [
    {
     "data": {
      "text/plain": [
       "<matplotlib.axes._subplots.AxesSubplot at 0x24f0007b8>"
      ]
     },
     "execution_count": 1365,
=======
       "<matplotlib.axes._subplots.AxesSubplot at 0x13de8df98>"
      ]
     },
     "execution_count": 140,
>>>>>>> 2a962d549d51068955895e0e87d75a4243dbf63e
     "metadata": {},
     "output_type": "execute_result"
    },
    {
     "data": {
<<<<<<< HEAD
      "image/png": "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\n",
=======
      "image/png": "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\n",
>>>>>>> 2a962d549d51068955895e0e87d75a4243dbf63e
      "text/plain": [
       "<Figure size 720x720 with 1 Axes>"
      ]
     },
     "metadata": {},
     "output_type": "display_data"
    }
   ],
   "source": [
    "\n",
    "#Plotting a barplot to visualize coefficients of the regression model and their importance\n",
    "\n",
    "plt.figure(figsize=(10,10))\n",
    "sns.barplot(coef, X_train.columns)\n",
    "\n",
    "# A negative coefficient suggests that as the independent variable increases,\n",
    "# the dependent variable tends to decrease. "
   ]
  },
  {
   "cell_type": "code",
<<<<<<< HEAD
   "execution_count": 1366,
=======
   "execution_count": 141,
>>>>>>> 2a962d549d51068955895e0e87d75a4243dbf63e
   "metadata": {},
   "outputs": [],
   "source": [
    "#importing confusion matrix and crossvalidation\n",
    "\n",
    "from sklearn.metrics import accuracy_score, confusion_matrix, classification_report\n",
    "from sklearn.model_selection import cross_validate, KFold\n",
    "from sklearn.model_selection import cross_val_score"
   ]
  },
  {
   "cell_type": "code",
<<<<<<< HEAD
   "execution_count": 1367,
=======
   "execution_count": 142,
>>>>>>> 2a962d549d51068955895e0e87d75a4243dbf63e
   "metadata": {},
   "outputs": [
    {
     "name": "stderr",
     "output_type": "stream",
     "text": [
      "/opt/anaconda3/lib/python3.7/site-packages/sklearn/linear_model/_logistic.py:940: ConvergenceWarning: lbfgs failed to converge (status=1):\n",
      "STOP: TOTAL NO. of ITERATIONS REACHED LIMIT.\n",
      "\n",
      "Increase the number of iterations (max_iter) or scale the data as shown in:\n",
      "    https://scikit-learn.org/stable/modules/preprocessing.html\n",
      "Please also refer to the documentation for alternative solver options:\n",
      "    https://scikit-learn.org/stable/modules/linear_model.html#logistic-regression\n",
      "  extra_warning_msg=_LOGISTIC_SOLVER_CONVERGENCE_MSG)\n",
      "/opt/anaconda3/lib/python3.7/site-packages/sklearn/linear_model/_logistic.py:940: ConvergenceWarning: lbfgs failed to converge (status=1):\n",
      "STOP: TOTAL NO. of ITERATIONS REACHED LIMIT.\n",
      "\n",
      "Increase the number of iterations (max_iter) or scale the data as shown in:\n",
      "    https://scikit-learn.org/stable/modules/preprocessing.html\n",
      "Please also refer to the documentation for alternative solver options:\n",
      "    https://scikit-learn.org/stable/modules/linear_model.html#logistic-regression\n",
      "  extra_warning_msg=_LOGISTIC_SOLVER_CONVERGENCE_MSG)\n"
     ]
    },
    {
     "name": "stdout",
     "output_type": "stream",
     "text": [
<<<<<<< HEAD
      "76.57262149633132\n"
=======
      "75.07654736185039\n"
>>>>>>> 2a962d549d51068955895e0e87d75a4243dbf63e
     ]
    },
    {
     "name": "stderr",
     "output_type": "stream",
     "text": [
      "/opt/anaconda3/lib/python3.7/site-packages/sklearn/linear_model/_logistic.py:940: ConvergenceWarning: lbfgs failed to converge (status=1):\n",
      "STOP: TOTAL NO. of ITERATIONS REACHED LIMIT.\n",
      "\n",
      "Increase the number of iterations (max_iter) or scale the data as shown in:\n",
      "    https://scikit-learn.org/stable/modules/preprocessing.html\n",
      "Please also refer to the documentation for alternative solver options:\n",
      "    https://scikit-learn.org/stable/modules/linear_model.html#logistic-regression\n",
      "  extra_warning_msg=_LOGISTIC_SOLVER_CONVERGENCE_MSG)\n"
     ]
    }
   ],
   "source": [
    "print(cross_val_score(log_model, X_train, y_train, scoring='accuracy', cv = 3).mean()*100)\n"
   ]
  },
  {
   "cell_type": "code",
<<<<<<< HEAD
   "execution_count": 1317,
=======
   "execution_count": 143,
>>>>>>> 2a962d549d51068955895e0e87d75a4243dbf63e
   "metadata": {},
   "outputs": [
    {
     "name": "stdout",
     "output_type": "stream",
     "text": [
<<<<<<< HEAD
      "[[0.75 0.25]\n",
      " [0.22 0.78]]\n",
      "              precision    recall  f1-score   support\n",
      "\n",
      "           0       0.77      0.75      0.76     61959\n",
      "           1       0.76      0.78      0.77     63681\n",
      "\n",
      "    accuracy                           0.77    125640\n",
      "   macro avg       0.77      0.77      0.77    125640\n",
      "weighted avg       0.77      0.77      0.77    125640\n",
=======
      "[[23871 11032]\n",
      " [ 7860 33008]]\n",
      "              precision    recall  f1-score   support\n",
      "\n",
      "           0       0.75      0.68      0.72     34903\n",
      "           1       0.75      0.81      0.78     40868\n",
      "\n",
      "    accuracy                           0.75     75771\n",
      "   macro avg       0.75      0.75      0.75     75771\n",
      "weighted avg       0.75      0.75      0.75     75771\n",
>>>>>>> 2a962d549d51068955895e0e87d75a4243dbf63e
      "\n"
     ]
    }
   ],
   "source": [
    "pred = log_model.predict(X_test)\n",
    "\n",
    "#Confusion matrix and classification report\n",
    "log_confusion = confusion_matrix(y_test, pred, normalize='true')\n",
    "class_report = classification_report(y_test, pred)\n",
    "log_confusion = log_confusion.round(2)\n",
    "print(log_confusion)\n",
    "print(class_report)"
   ]
  },
  {
   "cell_type": "code",
<<<<<<< HEAD
   "execution_count": 1318,
=======
   "execution_count": 144,
>>>>>>> 2a962d549d51068955895e0e87d75a4243dbf63e
   "metadata": {},
   "outputs": [
    {
     "data": {
      "text/plain": [
       "array([0, 1])"
      ]
     },
     "execution_count": 1318,
     "metadata": {},
     "output_type": "execute_result"
    }
   ],
   "source": [
    "log_classes = log_model.classes_\n",
    "\n",
    "log_classes"
   ]
  },
  {
   "cell_type": "code",
<<<<<<< HEAD
   "execution_count": 1322,
=======
   "execution_count": 145,
>>>>>>> 2a962d549d51068955895e0e87d75a4243dbf63e
   "metadata": {},
   "outputs": [],
   "source": [
    "def print_confusion_matrix(confusion_matrix, class_names, figsize = (10,10), fontsize=14):\n",
    "    \n",
    "    df_cm = pd.DataFrame(confusion_matrix, index=class_names, columns=class_names)\n",
    "    fig = plt.figure(figsize=figsize)\n",
    "    try:\n",
    "        heatmap = sns.heatmap(df_cm, annot=True)\n",
    "    except ValueError:\n",
    "        raise ValueError(\"Confusion matrix values must be integers.\")\n",
    "        \n",
    "    heatmap.yaxis.set_ticklabels(heatmap.yaxis.get_ticklabels(), rotation=0, ha='right', fontsize=fontsize)\n",
    "    heatmap.xaxis.set_ticklabels(heatmap.xaxis.get_ticklabels(), rotation=45, ha='right', fontsize=fontsize)\n",
    "    \n",
    "    plt.ylabel('True label')\n",
    "    plt.xlabel('Predicted label')\n",
    "    \n",
    "    return fig"
   ]
  },
  {
   "cell_type": "code",
<<<<<<< HEAD
   "execution_count": 1323,
=======
   "execution_count": 146,
>>>>>>> 2a962d549d51068955895e0e87d75a4243dbf63e
   "metadata": {},
   "outputs": [
    {
     "data": {
<<<<<<< HEAD
      "image/png": "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\n",
=======
      "image/png": "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\n",
>>>>>>> 2a962d549d51068955895e0e87d75a4243dbf63e
      "text/plain": [
       "<Figure size 792x576 with 2 Axes>"
      ]
     },
<<<<<<< HEAD
     "execution_count": 1323,
=======
     "execution_count": 146,
>>>>>>> 2a962d549d51068955895e0e87d75a4243dbf63e
     "metadata": {},
     "output_type": "execute_result"
    },
    {
     "data": {
<<<<<<< HEAD
      "image/png": "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\n",
=======
      "image/png": "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\n",
>>>>>>> 2a962d549d51068955895e0e87d75a4243dbf63e
      "text/plain": [
       "<Figure size 792x576 with 2 Axes>"
      ]
     },
     "metadata": {},
     "output_type": "display_data"
    }
   ],
   "source": [
    "print_confusion_matrix(log_confusion, log_classes, figsize =(11,8), fontsize=14)\n",
    "\n",
    "#true positive = 5244  false positive = 4946\n",
    "#false negativ = 2601   True negative = 14435"
   ]
  },
  {
   "cell_type": "markdown",
   "metadata": {},
<<<<<<< HEAD
=======
   "source": [
    "# Ada boost"
   ]
  },
  {
   "cell_type": "code",
   "execution_count": null,
   "metadata": {},
   "outputs": [],
   "source": [
    "from sklearn. import "
   ]
  },
  {
   "cell_type": "code",
   "execution_count": null,
   "metadata": {},
   "outputs": [],
   "source": []
  },
  {
   "cell_type": "code",
   "execution_count": null,
   "metadata": {},
   "outputs": [],
   "source": []
  },
  {
   "cell_type": "code",
   "execution_count": null,
   "metadata": {},
   "outputs": [],
   "source": []
  },
  {
   "cell_type": "code",
   "execution_count": 21,
   "metadata": {},
   "outputs": [],
   "source": [
    "from sklearn.ensemble import BaggingClassifier"
   ]
  },
  {
   "cell_type": "code",
   "execution_count": 33,
   "metadata": {},
   "outputs": [],
   "source": [
    "bag = BaggingClassifier(n_estimators=500, max_samples = 0.75, max_features = 0.75, random_state=28)\n"
   ]
  },
  {
   "cell_type": "code",
   "execution_count": 34,
   "metadata": {},
   "outputs": [
    {
     "ename": "KeyboardInterrupt",
     "evalue": "",
     "output_type": "error",
     "traceback": [
      "\u001b[0;31m---------------------------------------------------------------------------\u001b[0m",
      "\u001b[0;31mKeyboardInterrupt\u001b[0m                         Traceback (most recent call last)",
      "\u001b[0;32m<ipython-input-34-2839032a16ca>\u001b[0m in \u001b[0;36m<module>\u001b[0;34m\u001b[0m\n\u001b[0;32m----> 1\u001b[0;31m \u001b[0mbag_model\u001b[0m \u001b[0;34m=\u001b[0m \u001b[0mbag\u001b[0m\u001b[0;34m.\u001b[0m\u001b[0mfit\u001b[0m\u001b[0;34m(\u001b[0m\u001b[0mX_train\u001b[0m\u001b[0;34m,\u001b[0m \u001b[0my_train\u001b[0m\u001b[0;34m)\u001b[0m\u001b[0;34m\u001b[0m\u001b[0m\n\u001b[0m",
      "\u001b[0;32m/opt/anaconda3/lib/python3.7/site-packages/sklearn/ensemble/_bagging.py\u001b[0m in \u001b[0;36mfit\u001b[0;34m(self, X, y, sample_weight)\u001b[0m\n\u001b[1;32m    241\u001b[0m         \u001b[0mself\u001b[0m \u001b[0;34m:\u001b[0m \u001b[0mobject\u001b[0m\u001b[0;34m\u001b[0m\u001b[0m\n\u001b[1;32m    242\u001b[0m         \"\"\"\n\u001b[0;32m--> 243\u001b[0;31m         \u001b[0;32mreturn\u001b[0m \u001b[0mself\u001b[0m\u001b[0;34m.\u001b[0m\u001b[0m_fit\u001b[0m\u001b[0;34m(\u001b[0m\u001b[0mX\u001b[0m\u001b[0;34m,\u001b[0m \u001b[0my\u001b[0m\u001b[0;34m,\u001b[0m \u001b[0mself\u001b[0m\u001b[0;34m.\u001b[0m\u001b[0mmax_samples\u001b[0m\u001b[0;34m,\u001b[0m \u001b[0msample_weight\u001b[0m\u001b[0;34m=\u001b[0m\u001b[0msample_weight\u001b[0m\u001b[0;34m)\u001b[0m\u001b[0;34m\u001b[0m\u001b[0m\n\u001b[0m\u001b[1;32m    244\u001b[0m \u001b[0;34m\u001b[0m\u001b[0m\n\u001b[1;32m    245\u001b[0m     \u001b[0;32mdef\u001b[0m \u001b[0m_parallel_args\u001b[0m\u001b[0;34m(\u001b[0m\u001b[0mself\u001b[0m\u001b[0;34m)\u001b[0m\u001b[0;34m:\u001b[0m\u001b[0;34m\u001b[0m\u001b[0m\n",
      "\u001b[0;32m/opt/anaconda3/lib/python3.7/site-packages/sklearn/ensemble/_bagging.py\u001b[0m in \u001b[0;36m_fit\u001b[0;34m(self, X, y, max_samples, max_depth, sample_weight)\u001b[0m\n\u001b[1;32m    378\u001b[0m                 \u001b[0mtotal_n_estimators\u001b[0m\u001b[0;34m,\u001b[0m\u001b[0;34m\u001b[0m\u001b[0m\n\u001b[1;32m    379\u001b[0m                 verbose=self.verbose)\n\u001b[0;32m--> 380\u001b[0;31m             for i in range(n_jobs))\n\u001b[0m\u001b[1;32m    381\u001b[0m \u001b[0;34m\u001b[0m\u001b[0m\n\u001b[1;32m    382\u001b[0m         \u001b[0;31m# Reduce\u001b[0m\u001b[0;34m\u001b[0m\u001b[0;34m\u001b[0m\u001b[0m\n",
      "\u001b[0;32m/opt/anaconda3/lib/python3.7/site-packages/joblib/parallel.py\u001b[0m in \u001b[0;36m__call__\u001b[0;34m(self, iterable)\u001b[0m\n\u001b[1;32m   1002\u001b[0m             \u001b[0;31m# remaining jobs.\u001b[0m\u001b[0;34m\u001b[0m\u001b[0;34m\u001b[0m\u001b[0m\n\u001b[1;32m   1003\u001b[0m             \u001b[0mself\u001b[0m\u001b[0;34m.\u001b[0m\u001b[0m_iterating\u001b[0m \u001b[0;34m=\u001b[0m \u001b[0;32mFalse\u001b[0m\u001b[0;34m\u001b[0m\u001b[0m\n\u001b[0;32m-> 1004\u001b[0;31m             \u001b[0;32mif\u001b[0m \u001b[0mself\u001b[0m\u001b[0;34m.\u001b[0m\u001b[0mdispatch_one_batch\u001b[0m\u001b[0;34m(\u001b[0m\u001b[0miterator\u001b[0m\u001b[0;34m)\u001b[0m\u001b[0;34m:\u001b[0m\u001b[0;34m\u001b[0m\u001b[0m\n\u001b[0m\u001b[1;32m   1005\u001b[0m                 \u001b[0mself\u001b[0m\u001b[0;34m.\u001b[0m\u001b[0m_iterating\u001b[0m \u001b[0;34m=\u001b[0m \u001b[0mself\u001b[0m\u001b[0;34m.\u001b[0m\u001b[0m_original_iterator\u001b[0m \u001b[0;32mis\u001b[0m \u001b[0;32mnot\u001b[0m \u001b[0;32mNone\u001b[0m\u001b[0;34m\u001b[0m\u001b[0m\n\u001b[1;32m   1006\u001b[0m \u001b[0;34m\u001b[0m\u001b[0m\n",
      "\u001b[0;32m/opt/anaconda3/lib/python3.7/site-packages/joblib/parallel.py\u001b[0m in \u001b[0;36mdispatch_one_batch\u001b[0;34m(self, iterator)\u001b[0m\n\u001b[1;32m    833\u001b[0m                 \u001b[0;32mreturn\u001b[0m \u001b[0;32mFalse\u001b[0m\u001b[0;34m\u001b[0m\u001b[0m\n\u001b[1;32m    834\u001b[0m             \u001b[0;32melse\u001b[0m\u001b[0;34m:\u001b[0m\u001b[0;34m\u001b[0m\u001b[0m\n\u001b[0;32m--> 835\u001b[0;31m                 \u001b[0mself\u001b[0m\u001b[0;34m.\u001b[0m\u001b[0m_dispatch\u001b[0m\u001b[0;34m(\u001b[0m\u001b[0mtasks\u001b[0m\u001b[0;34m)\u001b[0m\u001b[0;34m\u001b[0m\u001b[0m\n\u001b[0m\u001b[1;32m    836\u001b[0m                 \u001b[0;32mreturn\u001b[0m \u001b[0;32mTrue\u001b[0m\u001b[0;34m\u001b[0m\u001b[0m\n\u001b[1;32m    837\u001b[0m \u001b[0;34m\u001b[0m\u001b[0m\n",
      "\u001b[0;32m/opt/anaconda3/lib/python3.7/site-packages/joblib/parallel.py\u001b[0m in \u001b[0;36m_dispatch\u001b[0;34m(self, batch)\u001b[0m\n\u001b[1;32m    752\u001b[0m         \u001b[0;32mwith\u001b[0m \u001b[0mself\u001b[0m\u001b[0;34m.\u001b[0m\u001b[0m_lock\u001b[0m\u001b[0;34m:\u001b[0m\u001b[0;34m\u001b[0m\u001b[0m\n\u001b[1;32m    753\u001b[0m             \u001b[0mjob_idx\u001b[0m \u001b[0;34m=\u001b[0m \u001b[0mlen\u001b[0m\u001b[0;34m(\u001b[0m\u001b[0mself\u001b[0m\u001b[0;34m.\u001b[0m\u001b[0m_jobs\u001b[0m\u001b[0;34m)\u001b[0m\u001b[0;34m\u001b[0m\u001b[0m\n\u001b[0;32m--> 754\u001b[0;31m             \u001b[0mjob\u001b[0m \u001b[0;34m=\u001b[0m \u001b[0mself\u001b[0m\u001b[0;34m.\u001b[0m\u001b[0m_backend\u001b[0m\u001b[0;34m.\u001b[0m\u001b[0mapply_async\u001b[0m\u001b[0;34m(\u001b[0m\u001b[0mbatch\u001b[0m\u001b[0;34m,\u001b[0m \u001b[0mcallback\u001b[0m\u001b[0;34m=\u001b[0m\u001b[0mcb\u001b[0m\u001b[0;34m)\u001b[0m\u001b[0;34m\u001b[0m\u001b[0m\n\u001b[0m\u001b[1;32m    755\u001b[0m             \u001b[0;31m# A job can complete so quickly than its callback is\u001b[0m\u001b[0;34m\u001b[0m\u001b[0;34m\u001b[0m\u001b[0m\n\u001b[1;32m    756\u001b[0m             \u001b[0;31m# called before we get here, causing self._jobs to\u001b[0m\u001b[0;34m\u001b[0m\u001b[0;34m\u001b[0m\u001b[0m\n",
      "\u001b[0;32m/opt/anaconda3/lib/python3.7/site-packages/joblib/_parallel_backends.py\u001b[0m in \u001b[0;36mapply_async\u001b[0;34m(self, func, callback)\u001b[0m\n\u001b[1;32m    207\u001b[0m     \u001b[0;32mdef\u001b[0m \u001b[0mapply_async\u001b[0m\u001b[0;34m(\u001b[0m\u001b[0mself\u001b[0m\u001b[0;34m,\u001b[0m \u001b[0mfunc\u001b[0m\u001b[0;34m,\u001b[0m \u001b[0mcallback\u001b[0m\u001b[0;34m=\u001b[0m\u001b[0;32mNone\u001b[0m\u001b[0;34m)\u001b[0m\u001b[0;34m:\u001b[0m\u001b[0;34m\u001b[0m\u001b[0m\n\u001b[1;32m    208\u001b[0m         \u001b[0;34m\"\"\"Schedule a func to be run\"\"\"\u001b[0m\u001b[0;34m\u001b[0m\u001b[0m\n\u001b[0;32m--> 209\u001b[0;31m         \u001b[0mresult\u001b[0m \u001b[0;34m=\u001b[0m \u001b[0mImmediateResult\u001b[0m\u001b[0;34m(\u001b[0m\u001b[0mfunc\u001b[0m\u001b[0;34m)\u001b[0m\u001b[0;34m\u001b[0m\u001b[0m\n\u001b[0m\u001b[1;32m    210\u001b[0m         \u001b[0;32mif\u001b[0m \u001b[0mcallback\u001b[0m\u001b[0;34m:\u001b[0m\u001b[0;34m\u001b[0m\u001b[0m\n\u001b[1;32m    211\u001b[0m             \u001b[0mcallback\u001b[0m\u001b[0;34m(\u001b[0m\u001b[0mresult\u001b[0m\u001b[0;34m)\u001b[0m\u001b[0;34m\u001b[0m\u001b[0m\n",
      "\u001b[0;32m/opt/anaconda3/lib/python3.7/site-packages/joblib/_parallel_backends.py\u001b[0m in \u001b[0;36m__init__\u001b[0;34m(self, batch)\u001b[0m\n\u001b[1;32m    588\u001b[0m         \u001b[0;31m# Don't delay the application, to avoid keeping the input\u001b[0m\u001b[0;34m\u001b[0m\u001b[0;34m\u001b[0m\u001b[0m\n\u001b[1;32m    589\u001b[0m         \u001b[0;31m# arguments in memory\u001b[0m\u001b[0;34m\u001b[0m\u001b[0;34m\u001b[0m\u001b[0m\n\u001b[0;32m--> 590\u001b[0;31m         \u001b[0mself\u001b[0m\u001b[0;34m.\u001b[0m\u001b[0mresults\u001b[0m \u001b[0;34m=\u001b[0m \u001b[0mbatch\u001b[0m\u001b[0;34m(\u001b[0m\u001b[0;34m)\u001b[0m\u001b[0;34m\u001b[0m\u001b[0m\n\u001b[0m\u001b[1;32m    591\u001b[0m \u001b[0;34m\u001b[0m\u001b[0m\n\u001b[1;32m    592\u001b[0m     \u001b[0;32mdef\u001b[0m \u001b[0mget\u001b[0m\u001b[0;34m(\u001b[0m\u001b[0mself\u001b[0m\u001b[0;34m)\u001b[0m\u001b[0;34m:\u001b[0m\u001b[0;34m\u001b[0m\u001b[0m\n",
      "\u001b[0;32m/opt/anaconda3/lib/python3.7/site-packages/joblib/parallel.py\u001b[0m in \u001b[0;36m__call__\u001b[0;34m(self)\u001b[0m\n\u001b[1;32m    254\u001b[0m         \u001b[0;32mwith\u001b[0m \u001b[0mparallel_backend\u001b[0m\u001b[0;34m(\u001b[0m\u001b[0mself\u001b[0m\u001b[0;34m.\u001b[0m\u001b[0m_backend\u001b[0m\u001b[0;34m,\u001b[0m \u001b[0mn_jobs\u001b[0m\u001b[0;34m=\u001b[0m\u001b[0mself\u001b[0m\u001b[0;34m.\u001b[0m\u001b[0m_n_jobs\u001b[0m\u001b[0;34m)\u001b[0m\u001b[0;34m:\u001b[0m\u001b[0;34m\u001b[0m\u001b[0m\n\u001b[1;32m    255\u001b[0m             return [func(*args, **kwargs)\n\u001b[0;32m--> 256\u001b[0;31m                     for func, args, kwargs in self.items]\n\u001b[0m\u001b[1;32m    257\u001b[0m \u001b[0;34m\u001b[0m\u001b[0m\n\u001b[1;32m    258\u001b[0m     \u001b[0;32mdef\u001b[0m \u001b[0m__len__\u001b[0m\u001b[0;34m(\u001b[0m\u001b[0mself\u001b[0m\u001b[0;34m)\u001b[0m\u001b[0;34m:\u001b[0m\u001b[0;34m\u001b[0m\u001b[0m\n",
      "\u001b[0;32m/opt/anaconda3/lib/python3.7/site-packages/joblib/parallel.py\u001b[0m in \u001b[0;36m<listcomp>\u001b[0;34m(.0)\u001b[0m\n\u001b[1;32m    254\u001b[0m         \u001b[0;32mwith\u001b[0m \u001b[0mparallel_backend\u001b[0m\u001b[0;34m(\u001b[0m\u001b[0mself\u001b[0m\u001b[0;34m.\u001b[0m\u001b[0m_backend\u001b[0m\u001b[0;34m,\u001b[0m \u001b[0mn_jobs\u001b[0m\u001b[0;34m=\u001b[0m\u001b[0mself\u001b[0m\u001b[0;34m.\u001b[0m\u001b[0m_n_jobs\u001b[0m\u001b[0;34m)\u001b[0m\u001b[0;34m:\u001b[0m\u001b[0;34m\u001b[0m\u001b[0m\n\u001b[1;32m    255\u001b[0m             return [func(*args, **kwargs)\n\u001b[0;32m--> 256\u001b[0;31m                     for func, args, kwargs in self.items]\n\u001b[0m\u001b[1;32m    257\u001b[0m \u001b[0;34m\u001b[0m\u001b[0m\n\u001b[1;32m    258\u001b[0m     \u001b[0;32mdef\u001b[0m \u001b[0m__len__\u001b[0m\u001b[0;34m(\u001b[0m\u001b[0mself\u001b[0m\u001b[0;34m)\u001b[0m\u001b[0;34m:\u001b[0m\u001b[0;34m\u001b[0m\u001b[0m\n",
      "\u001b[0;32m/opt/anaconda3/lib/python3.7/site-packages/sklearn/ensemble/_bagging.py\u001b[0m in \u001b[0;36m_parallel_build_estimators\u001b[0;34m(n_estimators, ensemble, X, y, sample_weight, seeds, total_n_estimators, verbose)\u001b[0m\n\u001b[1;32m    108\u001b[0m                 \u001b[0mcurr_sample_weight\u001b[0m\u001b[0;34m[\u001b[0m\u001b[0mnot_indices_mask\u001b[0m\u001b[0;34m]\u001b[0m \u001b[0;34m=\u001b[0m \u001b[0;36m0\u001b[0m\u001b[0;34m\u001b[0m\u001b[0m\n\u001b[1;32m    109\u001b[0m \u001b[0;34m\u001b[0m\u001b[0m\n\u001b[0;32m--> 110\u001b[0;31m             \u001b[0mestimator\u001b[0m\u001b[0;34m.\u001b[0m\u001b[0mfit\u001b[0m\u001b[0;34m(\u001b[0m\u001b[0mX\u001b[0m\u001b[0;34m[\u001b[0m\u001b[0;34m:\u001b[0m\u001b[0;34m,\u001b[0m \u001b[0mfeatures\u001b[0m\u001b[0;34m]\u001b[0m\u001b[0;34m,\u001b[0m \u001b[0my\u001b[0m\u001b[0;34m,\u001b[0m \u001b[0msample_weight\u001b[0m\u001b[0;34m=\u001b[0m\u001b[0mcurr_sample_weight\u001b[0m\u001b[0;34m)\u001b[0m\u001b[0;34m\u001b[0m\u001b[0m\n\u001b[0m\u001b[1;32m    111\u001b[0m \u001b[0;34m\u001b[0m\u001b[0m\n\u001b[1;32m    112\u001b[0m         \u001b[0;32melse\u001b[0m\u001b[0;34m:\u001b[0m\u001b[0;34m\u001b[0m\u001b[0m\n",
      "\u001b[0;32m/opt/anaconda3/lib/python3.7/site-packages/sklearn/tree/_classes.py\u001b[0m in \u001b[0;36mfit\u001b[0;34m(self, X, y, sample_weight, check_input, X_idx_sorted)\u001b[0m\n\u001b[1;32m    875\u001b[0m             \u001b[0msample_weight\u001b[0m\u001b[0;34m=\u001b[0m\u001b[0msample_weight\u001b[0m\u001b[0;34m,\u001b[0m\u001b[0;34m\u001b[0m\u001b[0m\n\u001b[1;32m    876\u001b[0m             \u001b[0mcheck_input\u001b[0m\u001b[0;34m=\u001b[0m\u001b[0mcheck_input\u001b[0m\u001b[0;34m,\u001b[0m\u001b[0;34m\u001b[0m\u001b[0m\n\u001b[0;32m--> 877\u001b[0;31m             X_idx_sorted=X_idx_sorted)\n\u001b[0m\u001b[1;32m    878\u001b[0m         \u001b[0;32mreturn\u001b[0m \u001b[0mself\u001b[0m\u001b[0;34m\u001b[0m\u001b[0m\n\u001b[1;32m    879\u001b[0m \u001b[0;34m\u001b[0m\u001b[0m\n",
      "\u001b[0;32m/opt/anaconda3/lib/python3.7/site-packages/sklearn/tree/_classes.py\u001b[0m in \u001b[0;36mfit\u001b[0;34m(self, X, y, sample_weight, check_input, X_idx_sorted)\u001b[0m\n\u001b[1;32m    365\u001b[0m                                            min_impurity_split)\n\u001b[1;32m    366\u001b[0m \u001b[0;34m\u001b[0m\u001b[0m\n\u001b[0;32m--> 367\u001b[0;31m         \u001b[0mbuilder\u001b[0m\u001b[0;34m.\u001b[0m\u001b[0mbuild\u001b[0m\u001b[0;34m(\u001b[0m\u001b[0mself\u001b[0m\u001b[0;34m.\u001b[0m\u001b[0mtree_\u001b[0m\u001b[0;34m,\u001b[0m \u001b[0mX\u001b[0m\u001b[0;34m,\u001b[0m \u001b[0my\u001b[0m\u001b[0;34m,\u001b[0m \u001b[0msample_weight\u001b[0m\u001b[0;34m,\u001b[0m \u001b[0mX_idx_sorted\u001b[0m\u001b[0;34m)\u001b[0m\u001b[0;34m\u001b[0m\u001b[0m\n\u001b[0m\u001b[1;32m    368\u001b[0m \u001b[0;34m\u001b[0m\u001b[0m\n\u001b[1;32m    369\u001b[0m         \u001b[0;32mif\u001b[0m \u001b[0mself\u001b[0m\u001b[0;34m.\u001b[0m\u001b[0mn_outputs_\u001b[0m \u001b[0;34m==\u001b[0m \u001b[0;36m1\u001b[0m \u001b[0;32mand\u001b[0m \u001b[0mis_classifier\u001b[0m\u001b[0;34m(\u001b[0m\u001b[0mself\u001b[0m\u001b[0;34m)\u001b[0m\u001b[0;34m:\u001b[0m\u001b[0;34m\u001b[0m\u001b[0m\n",
      "\u001b[0;31mKeyboardInterrupt\u001b[0m: "
     ]
    }
   ],
   "source": [
    "bag_model = bag.fit(X_train, y_train)"
   ]
  },
  {
   "cell_type": "code",
   "execution_count": null,
   "metadata": {},
   "outputs": [],
   "source": [
    "bag_model.score(X_train, y_train)"
   ]
  },
  {
   "cell_type": "code",
   "execution_count": null,
   "metadata": {},
   "outputs": [],
   "source": [
    "bag_model.score(X_test, y_test)"
   ]
  },
  {
   "cell_type": "code",
   "execution_count": null,
   "metadata": {},
   "outputs": [],
   "source": [
    "pred = bag_model.predict(X_test)"
   ]
  },
  {
   "cell_type": "code",
   "execution_count": null,
   "metadata": {},
   "outputs": [],
   "source": [
    "ada_confusion = confusion_matrix(y_test, pred)\n",
    "ada_report = classification_report(y_test, pred)\n",
    "print(ada_confusion)\n",
    "print(ada_report)"
   ]
  },
  {
   "cell_type": "code",
   "execution_count": null,
   "metadata": {},
   "outputs": [],
   "source": [
    "ada_classes = bag_model.classes_"
   ]
  },
  {
   "cell_type": "code",
   "execution_count": null,
   "metadata": {},
   "outputs": [],
   "source": [
    "print_confusion_matrix(ada_confusion, ada_classes, figsize =(12,10), fontsize=14)"
   ]
  },
  {
   "cell_type": "code",
   "execution_count": null,
   "metadata": {},
   "outputs": [],
   "source": []
  },
  {
   "cell_type": "code",
   "execution_count": null,
   "metadata": {},
   "outputs": [],
   "source": []
  },
  {
   "cell_type": "code",
   "execution_count": null,
   "metadata": {},
   "outputs": [],
>>>>>>> 2a962d549d51068955895e0e87d75a4243dbf63e
   "source": []
  },
  {
   "cell_type": "code",
   "execution_count": null,
   "metadata": {},
   "outputs": [],
   "source": []
  },
  {
   "cell_type": "code",
   "execution_count": null,
   "metadata": {},
   "outputs": [],
   "source": []
  },
  {
   "cell_type": "code",
   "execution_count": null,
   "metadata": {},
   "outputs": [],
   "source": []
  },
  {
   "cell_type": "code",
   "execution_count": null,
   "metadata": {},
   "outputs": [],
   "source": []
  },
  {
   "cell_type": "code",
   "execution_count": null,
   "metadata": {},
   "outputs": [],
   "source": []
  },
  {
   "cell_type": "code",
   "execution_count": null,
   "metadata": {},
   "outputs": [],
   "source": []
  },
  {
   "cell_type": "code",
   "execution_count": null,
   "metadata": {},
   "outputs": [],
   "source": []
  },
  {
   "cell_type": "code",
   "execution_count": null,
   "metadata": {},
   "outputs": [],
   "source": []
  }
 ],
 "metadata": {
  "kernelspec": {
   "display_name": "Python 3",
   "language": "python",
   "name": "python3"
  }
 },
 "nbformat": 4,
 "nbformat_minor": 4
}
